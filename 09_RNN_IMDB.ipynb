{
 "cells": [
  {
   "cell_type": "code",
   "execution_count": 1,
   "metadata": {},
   "outputs": [],
   "source": [
    "import torch\n",
    "import torch.nn as nn\n",
    "import torch.nn.functional as F\n",
    "from torchtext import data, datasets"
   ]
  },
  {
   "cell_type": "code",
   "execution_count": 2,
   "metadata": {},
   "outputs": [],
   "source": [
    "BATCH_SIZE = 100\n",
    "LR = 0.001\n",
    "EPOCHS = 15\n",
    "USE_CUDA = torch.cuda.is_available()"
   ]
  },
  {
   "cell_type": "code",
   "execution_count": 3,
   "metadata": {},
   "outputs": [],
   "source": [
    "DEVICE = torch.device(\"cuda\" if USE_CUDA else \"cpu\")\n",
    "TEXT = data.Field(sequential = True, batch_first = True, lower = True)\n",
    "LABEL = data.Field(sequential = False, batch_first = True)"
   ]
  },
  {
   "cell_type": "code",
   "execution_count": 4,
   "metadata": {},
   "outputs": [],
   "source": [
    "trainset, testset = datasets.IMDB.splits(TEXT, LABEL)"
   ]
  },
  {
   "cell_type": "code",
   "execution_count": 5,
   "metadata": {},
   "outputs": [],
   "source": [
    "TEXT.build_vocab(trainset, min_freq = 5)\n",
    "LABEL.build_vocab(trainset)"
   ]
  },
  {
   "cell_type": "code",
   "execution_count": 6,
   "metadata": {},
   "outputs": [],
   "source": [
    "trainset, valset = trainset.split(split_ratio = 0.8)\n",
    "train_iter, val_iter, test_iter = data.BucketIterator.splits((trainset, valset, testset), batch_size = BATCH_SIZE, shuffle = True, repeat = False)"
   ]
  },
  {
   "cell_type": "code",
   "execution_count": 7,
   "metadata": {},
   "outputs": [
    {
     "name": "stdout",
     "output_type": "stream",
     "text": [
      "[TRAIN]: 20000 \t [VALID]: 5000 \t [TEST]: 25000 \t [VOCAB] 46159 \t [CLASSES] 2\n"
     ]
    }
   ],
   "source": [
    "vocab_size = len(TEXT.vocab)\n",
    "n_classes = 2\n",
    "print(\"[TRAIN]: %d \\t [VALID]: %d \\t [TEST]: %d \\t [VOCAB] %d \\t [CLASSES] %d\" % (len(trainset), len(valset), len(testset), vocab_size, n_classes))"
   ]
  },
  {
   "cell_type": "code",
   "execution_count": 8,
   "metadata": {},
   "outputs": [],
   "source": [
    "class BasicRNN(nn.Module):\n",
    "    def __init__(self, n_layers, hidden_dim, n_vocab, embed_dim, n_classes, dropout_p = 0.2):\n",
    "        super(BasicRNN, self).__init__()\n",
    "        print(\"Building RNN\")\n",
    "        self.n_layers = n_layers\n",
    "        self.embed = nn.Embedding(n_vocab, embed_dim)\n",
    "        self.hidden_dim = hidden_dim\n",
    "        self.dropout = nn.Dropout(dropout_p)\n",
    "        self.rnn = nn.RNN(embed_dim, self.hidden_dim, num_layers = self.n_layers, batch_first = True)\n",
    "        self.out = nn.Linear(self.hidden_dim, n_classes)\n",
    "        \n",
    "    def forward(self, x):\n",
    "        x = self.embed(x)\n",
    "        h_0 = self._init_state(batch_size = x.size(0))\n",
    "        x, _ = self.rnn(x, h_0)\n",
    "        h_t = x[:, -1, :]\n",
    "        self.dropout(h_t)\n",
    "        logit = torch.sigmoid(self.out(h_t))\n",
    "        return logit\n",
    "    \n",
    "    def _init_state(self, batch_size = 1):\n",
    "        weight = next(self.parameters()).data\n",
    "        return weight.new(self.n_layers, batch_size, self.hidden_dim).zero_()"
   ]
  },
  {
   "cell_type": "code",
   "execution_count": 9,
   "metadata": {},
   "outputs": [],
   "source": [
    "def train(model, optimizer, train_iter):\n",
    "    model.train()\n",
    "    for b, batch in enumerate(train_iter):\n",
    "        x, y = batch.text.to(DEVICE), batch.label.to(DEVICE)\n",
    "        y.data.sub_(1)\n",
    "        optimizer.zero_grad()\n",
    "        \n",
    "        logit = model(x)\n",
    "        loss = F.cross_entropy(logit, y)\n",
    "        loss.backward()\n",
    "        optimizer.step()\n",
    "        \n",
    "        if b % 50 == 0:\n",
    "            print(\"Train Epoch: {} [{}/{} ({:.0f}%)]\\tLoss: {:.6f}\".format(e, \n",
    "                                                                           b * len(x), \n",
    "                                                                           len(train_iter.dataset), \n",
    "                                                                           100. * b / len(train_iter), \n",
    "                                                                           loss.item()))"
   ]
  },
  {
   "cell_type": "code",
   "execution_count": 10,
   "metadata": {},
   "outputs": [],
   "source": [
    "def evaluate(model, val_iter):\n",
    "    model.eval()\n",
    "    corrects, total_loss = 0, 0\n",
    "    \n",
    "    for batch in val_iter:\n",
    "        x, y = batch.text.to(DEVICE), batch.label.to(DEVICE)\n",
    "        y.data.sub_(1)\n",
    "        logit = model(x)\n",
    "        loss = F.cross_entropy(logit, y, reduction = \"sum\")\n",
    "        total_loss += loss.item()\n",
    "        corrects += (logit.max(1)[1].view(y.size()).data == y.data).sum()\n",
    "        \n",
    "    size = len(val_iter.dataset)\n",
    "    avg_loss = total_loss / size\n",
    "    avg_accuracy = 100.0 * corrects / size\n",
    "    return avg_loss, avg_accuracy"
   ]
  },
  {
   "cell_type": "code",
   "execution_count": 11,
   "metadata": {},
   "outputs": [
    {
     "name": "stdout",
     "output_type": "stream",
     "text": [
      "Building RNN\n",
      "Train Epoch: 1 [0/20000 (0%)]\tLoss: 0.693486\n",
      "Train Epoch: 1 [5000/20000 (25%)]\tLoss: 0.693027\n",
      "Train Epoch: 1 [10000/20000 (50%)]\tLoss: 0.692615\n",
      "Train Epoch: 1 [15000/20000 (75%)]\tLoss: 0.693534\n",
      "[EPOCH: 1], Validation Loss:  0.69 | Validation Accuracy: 49.00\n",
      "Train Epoch: 2 [0/20000 (0%)]\tLoss: 0.693319\n",
      "Train Epoch: 2 [5000/20000 (25%)]\tLoss: 0.693040\n",
      "Train Epoch: 2 [10000/20000 (50%)]\tLoss: 0.692875\n",
      "Train Epoch: 2 [15000/20000 (75%)]\tLoss: 0.692433\n",
      "[EPOCH: 2], Validation Loss:  0.69 | Validation Accuracy: 49.00\n",
      "Train Epoch: 3 [0/20000 (0%)]\tLoss: 0.693183\n",
      "Train Epoch: 3 [5000/20000 (25%)]\tLoss: 0.689857\n",
      "Train Epoch: 3 [10000/20000 (50%)]\tLoss: 0.692446\n",
      "Train Epoch: 3 [15000/20000 (75%)]\tLoss: 0.691676\n",
      "[EPOCH: 3], Validation Loss:  0.69 | Validation Accuracy: 49.00\n",
      "Train Epoch: 4 [0/20000 (0%)]\tLoss: 0.692522\n",
      "Train Epoch: 4 [5000/20000 (25%)]\tLoss: 0.692610\n",
      "Train Epoch: 4 [10000/20000 (50%)]\tLoss: 0.696044\n",
      "Train Epoch: 4 [15000/20000 (75%)]\tLoss: 0.690874\n",
      "[EPOCH: 4], Validation Loss:  0.69 | Validation Accuracy: 49.00\n",
      "Train Epoch: 5 [0/20000 (0%)]\tLoss: 0.693177\n",
      "Train Epoch: 5 [5000/20000 (25%)]\tLoss: 0.693160\n",
      "Train Epoch: 5 [10000/20000 (50%)]\tLoss: 0.692781\n",
      "Train Epoch: 5 [15000/20000 (75%)]\tLoss: 0.691984\n",
      "[EPOCH: 5], Validation Loss:  0.69 | Validation Accuracy: 49.00\n",
      "Train Epoch: 6 [0/20000 (0%)]\tLoss: 0.691866\n",
      "Train Epoch: 6 [5000/20000 (25%)]\tLoss: 0.690669\n",
      "Train Epoch: 6 [10000/20000 (50%)]\tLoss: 0.690871\n",
      "Train Epoch: 6 [15000/20000 (75%)]\tLoss: 0.691265\n",
      "[EPOCH: 6], Validation Loss:  0.70 | Validation Accuracy: 49.00\n",
      "Train Epoch: 7 [0/20000 (0%)]\tLoss: 0.691727\n",
      "Train Epoch: 7 [5000/20000 (25%)]\tLoss: 0.691724\n",
      "Train Epoch: 7 [10000/20000 (50%)]\tLoss: 0.692618\n",
      "Train Epoch: 7 [15000/20000 (75%)]\tLoss: 0.691581\n",
      "[EPOCH: 7], Validation Loss:  0.70 | Validation Accuracy: 49.00\n",
      "Train Epoch: 8 [0/20000 (0%)]\tLoss: 0.690597\n",
      "Train Epoch: 8 [5000/20000 (25%)]\tLoss: 0.689438\n",
      "Train Epoch: 8 [10000/20000 (50%)]\tLoss: 0.695729\n",
      "Train Epoch: 8 [15000/20000 (75%)]\tLoss: 0.689967\n",
      "[EPOCH: 8], Validation Loss:  0.70 | Validation Accuracy: 49.00\n",
      "Train Epoch: 9 [0/20000 (0%)]\tLoss: 0.689511\n",
      "Train Epoch: 9 [5000/20000 (25%)]\tLoss: 0.720470\n",
      "Train Epoch: 9 [10000/20000 (50%)]\tLoss: 0.697114\n",
      "Train Epoch: 9 [15000/20000 (75%)]\tLoss: 0.694012\n",
      "[EPOCH: 9], Validation Loss:  0.69 | Validation Accuracy: 50.00\n",
      "Train Epoch: 10 [0/20000 (0%)]\tLoss: 0.696564\n",
      "Train Epoch: 10 [5000/20000 (25%)]\tLoss: 0.703702\n",
      "Train Epoch: 10 [10000/20000 (50%)]\tLoss: 0.691674\n",
      "Train Epoch: 10 [15000/20000 (75%)]\tLoss: 0.695567\n",
      "[EPOCH: 10], Validation Loss:  0.69 | Validation Accuracy: 51.00\n",
      "Train Epoch: 11 [0/20000 (0%)]\tLoss: 0.693648\n",
      "Train Epoch: 11 [5000/20000 (25%)]\tLoss: 0.692502\n",
      "Train Epoch: 11 [10000/20000 (50%)]\tLoss: 0.692442\n",
      "Train Epoch: 11 [15000/20000 (75%)]\tLoss: 0.693126\n",
      "[EPOCH: 11], Validation Loss:  0.69 | Validation Accuracy: 50.00\n",
      "Train Epoch: 12 [0/20000 (0%)]\tLoss: 0.693281\n",
      "Train Epoch: 12 [5000/20000 (25%)]\tLoss: 0.693645\n",
      "Train Epoch: 12 [10000/20000 (50%)]\tLoss: 0.694237\n",
      "Train Epoch: 12 [15000/20000 (75%)]\tLoss: 0.694753\n",
      "[EPOCH: 12], Validation Loss:  0.69 | Validation Accuracy: 50.00\n",
      "Train Epoch: 13 [0/20000 (0%)]\tLoss: 0.694329\n",
      "Train Epoch: 13 [5000/20000 (25%)]\tLoss: 0.693234\n",
      "Train Epoch: 13 [10000/20000 (50%)]\tLoss: 0.693165\n",
      "Train Epoch: 13 [15000/20000 (75%)]\tLoss: 0.692966\n",
      "[EPOCH: 13], Validation Loss:  0.69 | Validation Accuracy: 50.00\n",
      "Train Epoch: 14 [0/20000 (0%)]\tLoss: 0.693773\n",
      "Train Epoch: 14 [5000/20000 (25%)]\tLoss: 0.693182\n",
      "Train Epoch: 14 [10000/20000 (50%)]\tLoss: 0.692408\n",
      "Train Epoch: 14 [15000/20000 (75%)]\tLoss: 0.692832\n",
      "[EPOCH: 14], Validation Loss:  0.69 | Validation Accuracy: 50.00\n",
      "Train Epoch: 15 [0/20000 (0%)]\tLoss: 0.692949\n",
      "Train Epoch: 15 [5000/20000 (25%)]\tLoss: 0.695515\n",
      "Train Epoch: 15 [10000/20000 (50%)]\tLoss: 0.692522\n",
      "Train Epoch: 15 [15000/20000 (75%)]\tLoss: 0.693040\n",
      "[EPOCH: 15], Validation Loss:  0.69 | Validation Accuracy: 50.00\n"
     ]
    }
   ],
   "source": [
    "model = BasicRNN(n_layers = 1, hidden_dim = 256, n_vocab = vocab_size, embed_dim = 128, n_classes = n_classes, dropout_p = 0.5).to(DEVICE)\n",
    "optimizer = torch.optim.Adam(model.parameters(), lr = LR)\n",
    "for e in range(1, EPOCHS + 1):\n",
    "    train(model, optimizer, train_iter)\n",
    "    val_loss, val_accuracy = evaluate(model, val_iter)\n",
    "    print(\"[EPOCH: %d], Validation Loss: %5.2f | Validation Accuracy: %5.2f\" % (e, val_loss, val_accuracy))"
   ]
  },
  {
   "cell_type": "code",
   "execution_count": 12,
   "metadata": {},
   "outputs": [
    {
     "name": "stdout",
     "output_type": "stream",
     "text": [
      "Test Loss:  0.70 | Test Accuracy: 50.00\n"
     ]
    }
   ],
   "source": [
    "test_loss, test_acc = evaluate(model,test_iter)\n",
    "print(\"Test Loss: %5.2f | Test Accuracy: %5.2f\" % (test_loss, test_acc))"
   ]
  },
  {
   "cell_type": "code",
   "execution_count": 13,
   "metadata": {},
   "outputs": [],
   "source": [
    "class BasicGRU(nn.Module):\n",
    "    def __init__(self, n_layers, hidden_dim, n_vocab, embed_dim, n_classes, dropout_p = 0.2):\n",
    "        super(BasicGRU, self).__init__()\n",
    "        print(\"Building GRU\")\n",
    "        self.n_layers = n_layers\n",
    "        self.embed = nn.Embedding(n_vocab, embed_dim)\n",
    "        self.hidden_dim = hidden_dim\n",
    "        self.dropout = nn.Dropout(dropout_p)\n",
    "        self.gru = nn.GRU(embed_dim, self.hidden_dim, num_layers = self.n_layers, batch_first = True)\n",
    "        self.out = nn.Linear(self.hidden_dim, n_classes)\n",
    "        \n",
    "    def forward(self, x):\n",
    "        x = self.embed(x)\n",
    "        h_0 = self._init_state(batch_size = x.size(0))\n",
    "        x, _ = self.gru(x, h_0)\n",
    "        h_t = x[:, -1, :]\n",
    "        self.dropout(h_t)\n",
    "        logit = torch.sigmoid(self.out(h_t))\n",
    "        return logit\n",
    "    \n",
    "    def _init_state(self, batch_size = 1):\n",
    "        weight = next(self.parameters()).data\n",
    "        return weight.new(self.n_layers, batch_size, self.hidden_dim).zero_()"
   ]
  },
  {
   "cell_type": "code",
   "execution_count": 14,
   "metadata": {},
   "outputs": [
    {
     "name": "stdout",
     "output_type": "stream",
     "text": [
      "Building GRU\n",
      "Train Epoch: 1 [0/20000 (0%)]\tLoss: 0.691595\n",
      "Train Epoch: 1 [5000/20000 (25%)]\tLoss: 0.693059\n",
      "Train Epoch: 1 [10000/20000 (50%)]\tLoss: 0.693562\n",
      "Train Epoch: 1 [15000/20000 (75%)]\tLoss: 0.693485\n",
      "[EPOCH: 1], Validation Loss:  0.69 | Validation Accuracy: 50.00\n",
      "Train Epoch: 2 [0/20000 (0%)]\tLoss: 0.692705\n",
      "Train Epoch: 2 [5000/20000 (25%)]\tLoss: 0.691450\n",
      "Train Epoch: 2 [10000/20000 (50%)]\tLoss: 0.690885\n",
      "Train Epoch: 2 [15000/20000 (75%)]\tLoss: 0.693949\n",
      "[EPOCH: 2], Validation Loss:  0.69 | Validation Accuracy: 50.00\n",
      "Train Epoch: 3 [0/20000 (0%)]\tLoss: 0.692833\n",
      "Train Epoch: 3 [5000/20000 (25%)]\tLoss: 0.691599\n",
      "Train Epoch: 3 [10000/20000 (50%)]\tLoss: 0.693595\n",
      "Train Epoch: 3 [15000/20000 (75%)]\tLoss: 0.691024\n",
      "[EPOCH: 3], Validation Loss:  0.69 | Validation Accuracy: 51.00\n",
      "Train Epoch: 4 [0/20000 (0%)]\tLoss: 0.689930\n",
      "Train Epoch: 4 [5000/20000 (25%)]\tLoss: 0.698570\n",
      "Train Epoch: 4 [10000/20000 (50%)]\tLoss: 0.693030\n",
      "Train Epoch: 4 [15000/20000 (75%)]\tLoss: 0.692961\n",
      "[EPOCH: 4], Validation Loss:  0.69 | Validation Accuracy: 52.00\n",
      "Train Epoch: 5 [0/20000 (0%)]\tLoss: 0.693002\n",
      "Train Epoch: 5 [5000/20000 (25%)]\tLoss: 0.693069\n",
      "Train Epoch: 5 [10000/20000 (50%)]\tLoss: 0.692750\n",
      "Train Epoch: 5 [15000/20000 (75%)]\tLoss: 0.693795\n",
      "[EPOCH: 5], Validation Loss:  0.69 | Validation Accuracy: 50.00\n",
      "Train Epoch: 6 [0/20000 (0%)]\tLoss: 0.692779\n",
      "Train Epoch: 6 [5000/20000 (25%)]\tLoss: 0.692029\n",
      "Train Epoch: 6 [10000/20000 (50%)]\tLoss: 0.685537\n",
      "Train Epoch: 6 [15000/20000 (75%)]\tLoss: 0.648772\n",
      "[EPOCH: 6], Validation Loss:  0.63 | Validation Accuracy: 67.00\n",
      "Train Epoch: 7 [0/20000 (0%)]\tLoss: 0.631814\n",
      "Train Epoch: 7 [5000/20000 (25%)]\tLoss: 0.605104\n",
      "Train Epoch: 7 [10000/20000 (50%)]\tLoss: 0.507292\n",
      "Train Epoch: 7 [15000/20000 (75%)]\tLoss: 0.505315\n",
      "[EPOCH: 7], Validation Loss:  0.48 | Validation Accuracy: 82.00\n",
      "Train Epoch: 8 [0/20000 (0%)]\tLoss: 0.432265\n",
      "Train Epoch: 8 [5000/20000 (25%)]\tLoss: 0.433615\n",
      "Train Epoch: 8 [10000/20000 (50%)]\tLoss: 0.460080\n",
      "Train Epoch: 8 [15000/20000 (75%)]\tLoss: 0.378134\n",
      "[EPOCH: 8], Validation Loss:  0.46 | Validation Accuracy: 85.00\n",
      "Train Epoch: 9 [0/20000 (0%)]\tLoss: 0.420522\n",
      "Train Epoch: 9 [5000/20000 (25%)]\tLoss: 0.428617\n",
      "Train Epoch: 9 [10000/20000 (50%)]\tLoss: 0.365952\n",
      "Train Epoch: 9 [15000/20000 (75%)]\tLoss: 0.353984\n",
      "[EPOCH: 9], Validation Loss:  0.46 | Validation Accuracy: 84.00\n",
      "Train Epoch: 10 [0/20000 (0%)]\tLoss: 0.373305\n",
      "Train Epoch: 10 [5000/20000 (25%)]\tLoss: 0.332606\n",
      "Train Epoch: 10 [10000/20000 (50%)]\tLoss: 0.408404\n",
      "Train Epoch: 10 [15000/20000 (75%)]\tLoss: 0.414560\n",
      "[EPOCH: 10], Validation Loss:  0.45 | Validation Accuracy: 86.00\n",
      "Train Epoch: 11 [0/20000 (0%)]\tLoss: 0.336013\n",
      "Train Epoch: 11 [5000/20000 (25%)]\tLoss: 0.342133\n",
      "Train Epoch: 11 [10000/20000 (50%)]\tLoss: 0.353271\n",
      "Train Epoch: 11 [15000/20000 (75%)]\tLoss: 0.314516\n",
      "[EPOCH: 11], Validation Loss:  0.45 | Validation Accuracy: 86.00\n",
      "Train Epoch: 12 [0/20000 (0%)]\tLoss: 0.343051\n",
      "Train Epoch: 12 [5000/20000 (25%)]\tLoss: 0.386628\n",
      "Train Epoch: 12 [10000/20000 (50%)]\tLoss: 0.348139\n",
      "Train Epoch: 12 [15000/20000 (75%)]\tLoss: 0.324024\n",
      "[EPOCH: 12], Validation Loss:  0.45 | Validation Accuracy: 86.00\n",
      "Train Epoch: 13 [0/20000 (0%)]\tLoss: 0.335171\n",
      "Train Epoch: 13 [5000/20000 (25%)]\tLoss: 0.343497\n",
      "Train Epoch: 13 [10000/20000 (50%)]\tLoss: 0.355480\n",
      "Train Epoch: 13 [15000/20000 (75%)]\tLoss: 0.375651\n",
      "[EPOCH: 13], Validation Loss:  0.45 | Validation Accuracy: 85.00\n",
      "Train Epoch: 14 [0/20000 (0%)]\tLoss: 0.344184\n",
      "Train Epoch: 14 [5000/20000 (25%)]\tLoss: 0.331033\n",
      "Train Epoch: 14 [10000/20000 (50%)]\tLoss: 0.355221\n",
      "Train Epoch: 14 [15000/20000 (75%)]\tLoss: 0.333092\n",
      "[EPOCH: 14], Validation Loss:  0.45 | Validation Accuracy: 86.00\n",
      "Train Epoch: 15 [0/20000 (0%)]\tLoss: 0.363591\n",
      "Train Epoch: 15 [5000/20000 (25%)]\tLoss: 0.324579\n",
      "Train Epoch: 15 [10000/20000 (50%)]\tLoss: 0.335097\n",
      "Train Epoch: 15 [15000/20000 (75%)]\tLoss: 0.333244\n",
      "[EPOCH: 15], Validation Loss:  0.45 | Validation Accuracy: 85.00\n"
     ]
    }
   ],
   "source": [
    "model = BasicGRU(n_layers = 1, hidden_dim = 256, n_vocab = vocab_size, embed_dim = 128, n_classes = n_classes, dropout_p = 0.5).to(DEVICE)\n",
    "optimizer = torch.optim.Adam(model.parameters(), lr = LR)\n",
    "for e in range(1, EPOCHS + 1):\n",
    "    train(model, optimizer, train_iter)\n",
    "    val_loss, val_accuracy = evaluate(model, val_iter)\n",
    "    print(\"[EPOCH: %d], Validation Loss: %5.2f | Validation Accuracy: %5.2f\" % (e, val_loss, val_accuracy))"
   ]
  },
  {
   "cell_type": "code",
   "execution_count": 15,
   "metadata": {},
   "outputs": [
    {
     "name": "stdout",
     "output_type": "stream",
     "text": [
      "Test Loss:  0.46 | Test Accuracy: 84.00\n"
     ]
    }
   ],
   "source": [
    "test_loss, test_acc = evaluate(model,test_iter)\n",
    "print(\"Test Loss: %5.2f | Test Accuracy: %5.2f\" % (test_loss, test_acc))"
   ]
  },
  {
   "cell_type": "code",
   "execution_count": 16,
   "metadata": {},
   "outputs": [],
   "source": [
    "class BasicLSTM(nn.Module):\n",
    "    def __init__(self, n_layers, hidden_dim, n_vocab, embed_dim, n_classes, dropout_p = 0.2):\n",
    "        super(BasicLSTM, self).__init__()\n",
    "        print(\"Building LSTM\")\n",
    "        self.n_layers = n_layers\n",
    "        self.embed = nn.Embedding(n_vocab, embed_dim)\n",
    "        self.hidden_dim = hidden_dim\n",
    "        self.dropout = nn.Dropout(dropout_p)\n",
    "        self.lstm = nn.LSTM(embed_dim, self.hidden_dim, num_layers = self.n_layers, batch_first = True)\n",
    "        self.out = nn.Linear(self.hidden_dim, n_classes)\n",
    "        \n",
    "    def forward(self, x):\n",
    "        x = self.embed(x)\n",
    "        h_0 = self._init_state(batch_size = x.size(0))\n",
    "        c_0 = self._init_state(batch_size = x.size(0))\n",
    "        \n",
    "        x, _ = self.lstm(x, (h_0, c_0))\n",
    "        h_t = x[:, -1, :]\n",
    "        self.dropout(h_t)\n",
    "        logit = torch.sigmoid(self.out(h_t))\n",
    "        return logit\n",
    "    \n",
    "    def _init_state(self, batch_size = 1):\n",
    "        weight = next(self.parameters()).data\n",
    "        return weight.new(self.n_layers, batch_size, self.hidden_dim).zero_()"
   ]
  },
  {
   "cell_type": "code",
   "execution_count": 17,
   "metadata": {},
   "outputs": [
    {
     "name": "stdout",
     "output_type": "stream",
     "text": [
      "Building LSTM\n",
      "Train Epoch: 1 [0/20000 (0%)]\tLoss: 0.693381\n",
      "Train Epoch: 1 [5000/20000 (25%)]\tLoss: 0.693180\n",
      "Train Epoch: 1 [10000/20000 (50%)]\tLoss: 0.693065\n",
      "Train Epoch: 1 [15000/20000 (75%)]\tLoss: 0.695363\n",
      "[EPOCH: 1], Validation Loss:  0.69 | Validation Accuracy: 49.00\n",
      "Train Epoch: 2 [0/20000 (0%)]\tLoss: 0.692571\n",
      "Train Epoch: 2 [5000/20000 (25%)]\tLoss: 0.693003\n",
      "Train Epoch: 2 [10000/20000 (50%)]\tLoss: 0.692556\n",
      "Train Epoch: 2 [15000/20000 (75%)]\tLoss: 0.693222\n",
      "[EPOCH: 2], Validation Loss:  0.69 | Validation Accuracy: 49.00\n",
      "Train Epoch: 3 [0/20000 (0%)]\tLoss: 0.692828\n",
      "Train Epoch: 3 [5000/20000 (25%)]\tLoss: 0.694315\n",
      "Train Epoch: 3 [10000/20000 (50%)]\tLoss: 0.690661\n",
      "Train Epoch: 3 [15000/20000 (75%)]\tLoss: 0.688718\n",
      "[EPOCH: 3], Validation Loss:  0.70 | Validation Accuracy: 49.00\n",
      "Train Epoch: 4 [0/20000 (0%)]\tLoss: 0.692262\n",
      "Train Epoch: 4 [5000/20000 (25%)]\tLoss: 0.691293\n",
      "Train Epoch: 4 [10000/20000 (50%)]\tLoss: 0.688871\n",
      "Train Epoch: 4 [15000/20000 (75%)]\tLoss: 0.689599\n",
      "[EPOCH: 4], Validation Loss:  0.70 | Validation Accuracy: 51.00\n",
      "Train Epoch: 5 [0/20000 (0%)]\tLoss: 0.686561\n",
      "Train Epoch: 5 [5000/20000 (25%)]\tLoss: 0.691894\n",
      "Train Epoch: 5 [10000/20000 (50%)]\tLoss: 0.689576\n",
      "Train Epoch: 5 [15000/20000 (75%)]\tLoss: 0.691246\n",
      "[EPOCH: 5], Validation Loss:  0.69 | Validation Accuracy: 51.00\n",
      "Train Epoch: 6 [0/20000 (0%)]\tLoss: 0.695141\n",
      "Train Epoch: 6 [5000/20000 (25%)]\tLoss: 0.688289\n",
      "Train Epoch: 6 [10000/20000 (50%)]\tLoss: 0.695821\n",
      "Train Epoch: 6 [15000/20000 (75%)]\tLoss: 0.691245\n",
      "[EPOCH: 6], Validation Loss:  0.69 | Validation Accuracy: 52.00\n",
      "Train Epoch: 7 [0/20000 (0%)]\tLoss: 0.689531\n",
      "Train Epoch: 7 [5000/20000 (25%)]\tLoss: 0.689817\n",
      "Train Epoch: 7 [10000/20000 (50%)]\tLoss: 0.690872\n",
      "Train Epoch: 7 [15000/20000 (75%)]\tLoss: 0.689878\n",
      "[EPOCH: 7], Validation Loss:  0.70 | Validation Accuracy: 51.00\n",
      "Train Epoch: 8 [0/20000 (0%)]\tLoss: 0.689227\n",
      "Train Epoch: 8 [5000/20000 (25%)]\tLoss: 0.689965\n",
      "Train Epoch: 8 [10000/20000 (50%)]\tLoss: 0.698496\n",
      "Train Epoch: 8 [15000/20000 (75%)]\tLoss: 0.689364\n",
      "[EPOCH: 8], Validation Loss:  0.70 | Validation Accuracy: 51.00\n",
      "Train Epoch: 9 [0/20000 (0%)]\tLoss: 0.689214\n",
      "Train Epoch: 9 [5000/20000 (25%)]\tLoss: 0.689972\n",
      "Train Epoch: 9 [10000/20000 (50%)]\tLoss: 0.690725\n",
      "Train Epoch: 9 [15000/20000 (75%)]\tLoss: 0.689375\n",
      "[EPOCH: 9], Validation Loss:  0.70 | Validation Accuracy: 51.00\n",
      "Train Epoch: 10 [0/20000 (0%)]\tLoss: 0.689428\n",
      "Train Epoch: 10 [5000/20000 (25%)]\tLoss: 0.689432\n",
      "Train Epoch: 10 [10000/20000 (50%)]\tLoss: 0.690123\n",
      "Train Epoch: 10 [15000/20000 (75%)]\tLoss: 0.689914\n",
      "[EPOCH: 10], Validation Loss:  0.70 | Validation Accuracy: 53.00\n",
      "Train Epoch: 11 [0/20000 (0%)]\tLoss: 0.689383\n",
      "Train Epoch: 11 [5000/20000 (25%)]\tLoss: 0.686207\n",
      "Train Epoch: 11 [10000/20000 (50%)]\tLoss: 0.665645\n",
      "Train Epoch: 11 [15000/20000 (75%)]\tLoss: 0.663458\n",
      "[EPOCH: 11], Validation Loss:  0.62 | Validation Accuracy: 68.00\n",
      "Train Epoch: 12 [0/20000 (0%)]\tLoss: 0.623076\n",
      "Train Epoch: 12 [5000/20000 (25%)]\tLoss: 0.506662\n",
      "Train Epoch: 12 [10000/20000 (50%)]\tLoss: 0.510436\n",
      "Train Epoch: 12 [15000/20000 (75%)]\tLoss: 0.505670\n",
      "[EPOCH: 12], Validation Loss:  0.57 | Validation Accuracy: 72.00\n",
      "Train Epoch: 13 [0/20000 (0%)]\tLoss: 0.497078\n",
      "Train Epoch: 13 [5000/20000 (25%)]\tLoss: 0.470192\n",
      "Train Epoch: 13 [10000/20000 (50%)]\tLoss: 0.468316\n",
      "Train Epoch: 13 [15000/20000 (75%)]\tLoss: 0.516629\n",
      "[EPOCH: 13], Validation Loss:  0.51 | Validation Accuracy: 79.00\n",
      "Train Epoch: 14 [0/20000 (0%)]\tLoss: 0.431337\n",
      "Train Epoch: 14 [5000/20000 (25%)]\tLoss: 0.426697\n",
      "Train Epoch: 14 [10000/20000 (50%)]\tLoss: 0.435056\n",
      "Train Epoch: 14 [15000/20000 (75%)]\tLoss: 0.427802\n",
      "[EPOCH: 14], Validation Loss:  0.55 | Validation Accuracy: 74.00\n",
      "Train Epoch: 15 [0/20000 (0%)]\tLoss: 0.427247\n",
      "Train Epoch: 15 [5000/20000 (25%)]\tLoss: 0.454655\n",
      "Train Epoch: 15 [10000/20000 (50%)]\tLoss: 0.428639\n",
      "Train Epoch: 15 [15000/20000 (75%)]\tLoss: 0.428214\n",
      "[EPOCH: 15], Validation Loss:  0.49 | Validation Accuracy: 82.00\n"
     ]
    }
   ],
   "source": [
    "model = BasicLSTM(n_layers = 1, hidden_dim = 256, n_vocab = vocab_size, embed_dim = 128, n_classes = n_classes, dropout_p = 0.5).to(DEVICE)\n",
    "optimizer = torch.optim.Adam(model.parameters(), lr = LR)\n",
    "for e in range(1, EPOCHS + 1):\n",
    "    train(model, optimizer, train_iter)\n",
    "    val_loss, val_accuracy = evaluate(model, val_iter)\n",
    "    print(\"[EPOCH: %d], Validation Loss: %5.2f | Validation Accuracy: %5.2f\" % (e, val_loss, val_accuracy))"
   ]
  },
  {
   "cell_type": "code",
   "execution_count": 18,
   "metadata": {},
   "outputs": [
    {
     "name": "stdout",
     "output_type": "stream",
     "text": [
      "Test Loss:  0.50 | Test Accuracy: 80.00\n"
     ]
    }
   ],
   "source": [
    "test_loss, test_acc = evaluate(model,test_iter)\n",
    "print(\"Test Loss: %5.2f | Test Accuracy: %5.2f\" % (test_loss, test_acc))"
   ]
  }
 ],
 "metadata": {
  "kernelspec": {
   "display_name": "Python 3",
   "language": "python",
   "name": "python3"
  },
  "language_info": {
   "codemirror_mode": {
    "name": "ipython",
    "version": 3
   },
   "file_extension": ".py",
   "mimetype": "text/x-python",
   "name": "python",
   "nbconvert_exporter": "python",
   "pygments_lexer": "ipython3",
   "version": "3.6.8"
  }
 },
 "nbformat": 4,
 "nbformat_minor": 4
}
