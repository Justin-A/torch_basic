{
 "cells": [
  {
   "cell_type": "code",
   "execution_count": 1,
   "metadata": {},
   "outputs": [],
   "source": [
    "import torch\n",
    "USE_CUDA = torch.cuda.is_available()\n",
    "DEVICE = torch.device(\"cuda\" if USE_CUDA else \"cpu\")"
   ]
  },
  {
   "cell_type": "code",
   "execution_count": 4,
   "metadata": {
    "scrolled": true
   },
   "outputs": [
    {
     "name": "stdout",
     "output_type": "stream",
     "text": [
      "Files already downloaded and verified\n"
     ]
    }
   ],
   "source": [
    "from torchvision import transforms, datasets\n",
    "train_loader = torch.utils.data.DataLoader(\n",
    "    datasets.CIFAR10(\"../data/CIFAR_10/\",\n",
    "                     train = True,\n",
    "                     download = True,\n",
    "                     transform = transforms.Compose([\n",
    "                         transforms.RandomHorizontalFlip(),\n",
    "                         transforms.ToTensor(),\n",
    "                         transforms.Normalize((0.5, 0.5, 0.5),\n",
    "                                              (0.5, 0.5, 0.5))])), batch_size = 64, shuffle = True)\n",
    "\n",
    "test_loader = torch.utils.data.DataLoader(\n",
    "    datasets.CIFAR10(\"../data/CIFAR_10\",\n",
    "                     train = False,\n",
    "                     transform = transforms.Compose([\n",
    "                         transforms.RandomHorizontalFlip(),\n",
    "                         transforms.ToTensor(),\n",
    "                         transforms.Normalize((0.5, 0.5, 0.5),\n",
    "                                              (0.5, 0.5, 0.5))])), batch_size = 64 )"
   ]
  },
  {
   "cell_type": "code",
   "execution_count": 24,
   "metadata": {},
   "outputs": [
    {
     "name": "stdout",
     "output_type": "stream",
     "text": [
      "DEVICE:  cuda\n",
      "MODEL:  CNN(\n",
      "  (conv1): Conv2d(3, 8, kernel_size=(3, 3), stride=(1, 1), padding=(1, 1))\n",
      "  (conv2): Conv2d(8, 16, kernel_size=(3, 3), stride=(1, 1), padding=(1, 1))\n",
      "  (conv3): Conv2d(16, 32, kernel_size=(3, 3), stride=(1, 1), padding=(1, 1))\n",
      "  (conv4): Conv2d(32, 64, kernel_size=(3, 3), stride=(1, 1), padding=(1, 1))\n",
      "  (pool): MaxPool2d(kernel_size=2, stride=2, padding=0, dilation=1, ceil_mode=False)\n",
      "  (fc1): Linear(in_features=256, out_features=64, bias=True)\n",
      "  (fc2): Linear(in_features=64, out_features=32, bias=True)\n",
      "  (fc3): Linear(in_features=32, out_features=10, bias=True)\n",
      "  (conv1_bn): BatchNorm2d(8, eps=1e-05, momentum=0.1, affine=True, track_running_stats=True)\n",
      "  (conv2_bn): BatchNorm2d(16, eps=1e-05, momentum=0.1, affine=True, track_running_stats=True)\n",
      "  (conv3_bn): BatchNorm2d(32, eps=1e-05, momentum=0.1, affine=True, track_running_stats=True)\n",
      "  (conv4_bn): BatchNorm2d(64, eps=1e-05, momentum=0.1, affine=True, track_running_stats=True)\n",
      ")\n"
     ]
    }
   ],
   "source": [
    "import torch.nn as nn\n",
    "import torch.nn.functional as F\n",
    "import torch.optim as optim\n",
    "    \n",
    "class CNN(nn.Module):\n",
    "    def __init__(self):\n",
    "        super(CNN, self).__init__()\n",
    "        self.conv1 = nn.Conv2d(in_channels = 3, out_channels = 8, kernel_size = 3, padding = 1)\n",
    "        self.conv2 = nn.Conv2d(in_channels = 8, out_channels = 16, kernel_size = 3, padding = 1)\n",
    "        self.conv3 = nn.Conv2d(in_channels = 16, out_channels = 32, kernel_size = 3, padding = 1)\n",
    "        self.conv4 = nn.Conv2d(in_channels = 32, out_channels = 64, kernel_size = 3, padding = 1)\n",
    "        self.pool = nn.MaxPool2d(kernel_size = 2, stride = 2)\n",
    "        self.fc1 = nn.Linear(2 * 2 * 64, 64)\n",
    "        self.fc2 = nn.Linear(64, 32)\n",
    "        self.fc3 = nn.Linear(32, 10)\n",
    "        \n",
    "        self.conv1_bn = nn.BatchNorm2d(8)\n",
    "        self.conv2_bn = nn.BatchNorm2d(16)\n",
    "        self.conv3_bn = nn.BatchNorm2d(32)\n",
    "        self.conv4_bn = nn.BatchNorm2d(64)\n",
    "        \n",
    "        self.dropout_p = 0.2\n",
    "        \n",
    "    def forward(self, x):\n",
    "        x = self.conv1(x) # 32 * 32 * 3 -> 32 * 32 * 8\n",
    "        x = self.conv1_bn(x)\n",
    "        x = F.tanh(x)     # 32 * 32 * 8\n",
    "        x = self.pool(x)  # 16 * 16 * 8\n",
    "        \n",
    "        x = self.conv2(x) # 16 * 16 * 8 -> 16 * 16 * 16\n",
    "        x = self.conv2_bn(x)\n",
    "        x = F.tanh(x)     # 16 * 16 * 16\n",
    "        x = self.pool(x)  # 8  *  8 * 16\n",
    "        \n",
    "        x = self.conv3(x) # 8 * 8 * 16 -> 8 * 8 * 32\n",
    "        x = self.conv3_bn(x)\n",
    "        x = F.tanh(x)     # 8 * 8 * 32\n",
    "        x = self.pool(x)  # 4 * 4 * 32\n",
    "        \n",
    "        x = self.conv4(x) # 4 * 4 * 32 -> 4 * 4 * 64\n",
    "        x = self.conv4_bn(x)\n",
    "        x = F.tanh(x)     # 4 * 4 * 64\n",
    "        x = self.pool(x)  # 2 * 2 * 64\n",
    "        \n",
    "        x = x.view(-1, 2 * 2 * 64)\n",
    "        x = self.fc1(x)\n",
    "        x = F.dropout(x, p = self.dropout_p)\n",
    "        x = F.relu(x)\n",
    "        x = self.fc2(x)\n",
    "        x = F.dropout(x, p = self.dropout_p)\n",
    "        x = F.relu(x)\n",
    "        x = self.fc3(x)\n",
    "        x = F.log_softmax(x, dim = 1)\n",
    "        return x\n",
    "\n",
    "import torch.nn.init as init\n",
    "def weight_init(m):\n",
    "    \n",
    "    '''\n",
    "    Ref: https://pytorch.org/docs/stable/nn.init.html\n",
    "    \n",
    "    init.uniform_(tensor, a = 0.0, b = 1.0) (a: Lower bound, b: Upper bound)\n",
    "    init.normal_(tensor, mean = 0.0, std = 1.0)\n",
    "    init.xavier_uniform_(tensor, gain = 1.0)\n",
    "    init.xavier_normal_(tensor, gain = 1.0)\n",
    "    init.kaiming_uniform_(tensor, a=0, mode='fan_in', nonlinearity='leaky_relu')\n",
    "    init.kaiming_normal_(tensor, a=0, mode='fan_in', nonlinearity='leaky_relu')\n",
    "    '''\n",
    "    \n",
    "    if isinstance(m, nn.Conv2d):\n",
    "        init.xavier_uniform_(m.weight.data)\n",
    "        if m.bias is not None:\n",
    "            init.normal_(m.bias.data)\n",
    "    \n",
    "    elif isinstance(m, nn.BatchNorm2d):\n",
    "        init.normal_(m.weight.data, mean=1, std=0.02)\n",
    "        init.constant_(m.bias.data, 0)\n",
    "\n",
    "    elif isinstance(m, nn.Linear):\n",
    "        init.xavier_uniform_(m.weight.data)\n",
    "        init.normal_(m.bias.data)\n",
    "        \n",
    "model = CNN().to(DEVICE)\n",
    "model.apply(weight_init)\n",
    "\n",
    "optimizer = optim.Adam(model.parameters(), lr = 0.001)\n",
    "print(\"DEVICE: \", DEVICE)\n",
    "print(\"MODEL: \", model)"
   ]
  },
  {
   "cell_type": "code",
   "execution_count": 25,
   "metadata": {},
   "outputs": [],
   "source": [
    "def train(model, train_loader, optimizer, epoch):\n",
    "    model.train()\n",
    "    for batch_idx, (data, target) in enumerate(train_loader):\n",
    "        data, target = data.to(DEVICE), target.to(DEVICE)\n",
    "        optimizer.zero_grad()\n",
    "        output = model(data)\n",
    "        loss = F.cross_entropy(output, target)\n",
    "        loss.backward()\n",
    "        optimizer.step()\n",
    "        \n",
    "        if batch_idx % 100 == 0:\n",
    "            print(\"Train Epoch: {} [{}/{} ({:.0f}%)]\\tLoss: {:.6f}\".format(\n",
    "                epoch, \n",
    "                batch_idx * len(data), \n",
    "                len(train_loader.dataset), \n",
    "                100. * batch_idx / len(train_loader), \n",
    "                loss.item()))"
   ]
  },
  {
   "cell_type": "code",
   "execution_count": 26,
   "metadata": {},
   "outputs": [],
   "source": [
    "def evaluate(model, test_loader):\n",
    "    model.eval()\n",
    "    test_loss = 0\n",
    "    correct = 0\n",
    "    with torch.no_grad():\n",
    "        for data, target in test_loader:\n",
    "            data, target = data.to(DEVICE), target.to(DEVICE)\n",
    "            output = model(data)\n",
    "            test_loss += F.cross_entropy(output, target, reduction = \"sum\").item()\n",
    "            prediction = output.max(1, keepdim = True)[1]\n",
    "            correct += prediction.eq(target.view_as(prediction)).sum().item()\n",
    "    \n",
    "    test_loss /= len(test_loader.dataset)\n",
    "    test_accuracy = 100. * correct / len(test_loader.dataset)\n",
    "    return test_loss, test_accuracy"
   ]
  },
  {
   "cell_type": "code",
   "execution_count": 27,
   "metadata": {},
   "outputs": [
    {
     "name": "stderr",
     "output_type": "stream",
     "text": [
      "c:\\users\\justin\\venv\\lib\\site-packages\\torch\\nn\\functional.py:1339: UserWarning: nn.functional.tanh is deprecated. Use torch.tanh instead.\n",
      "  warnings.warn(\"nn.functional.tanh is deprecated. Use torch.tanh instead.\")\n"
     ]
    },
    {
     "name": "stdout",
     "output_type": "stream",
     "text": [
      "Train Epoch: 1 [0/50000 (0%)]\tLoss: 3.762965\n",
      "Train Epoch: 1 [6400/50000 (13%)]\tLoss: 1.966380\n",
      "Train Epoch: 1 [12800/50000 (26%)]\tLoss: 2.038457\n",
      "Train Epoch: 1 [19200/50000 (38%)]\tLoss: 1.753876\n",
      "Train Epoch: 1 [25600/50000 (51%)]\tLoss: 1.782839\n",
      "Train Epoch: 1 [32000/50000 (64%)]\tLoss: 1.571276\n",
      "Train Epoch: 1 [38400/50000 (77%)]\tLoss: 1.665885\n",
      "Train Epoch: 1 [44800/50000 (90%)]\tLoss: 1.561618\n",
      "[1] Test Loss: 1.4906, accuracy: 46.43%\n",
      "\n",
      "Train Epoch: 2 [0/50000 (0%)]\tLoss: 1.491285\n",
      "Train Epoch: 2 [6400/50000 (13%)]\tLoss: 1.292286\n",
      "Train Epoch: 2 [12800/50000 (26%)]\tLoss: 1.483745\n",
      "Train Epoch: 2 [19200/50000 (38%)]\tLoss: 1.376011\n",
      "Train Epoch: 2 [25600/50000 (51%)]\tLoss: 1.621853\n",
      "Train Epoch: 2 [32000/50000 (64%)]\tLoss: 1.371830\n",
      "Train Epoch: 2 [38400/50000 (77%)]\tLoss: 1.235205\n",
      "Train Epoch: 2 [44800/50000 (90%)]\tLoss: 1.257683\n",
      "[2] Test Loss: 1.3394, accuracy: 52.15%\n",
      "\n",
      "Train Epoch: 3 [0/50000 (0%)]\tLoss: 1.148357\n",
      "Train Epoch: 3 [6400/50000 (13%)]\tLoss: 1.123405\n",
      "Train Epoch: 3 [12800/50000 (26%)]\tLoss: 1.161681\n",
      "Train Epoch: 3 [19200/50000 (38%)]\tLoss: 1.255038\n",
      "Train Epoch: 3 [25600/50000 (51%)]\tLoss: 1.462833\n",
      "Train Epoch: 3 [32000/50000 (64%)]\tLoss: 1.301029\n",
      "Train Epoch: 3 [38400/50000 (77%)]\tLoss: 1.419778\n",
      "Train Epoch: 3 [44800/50000 (90%)]\tLoss: 1.308733\n",
      "[3] Test Loss: 1.2717, accuracy: 54.89%\n",
      "\n"
     ]
    }
   ],
   "source": [
    "EPOCHS = 3\n",
    "for epoch in range(1, EPOCHS + 1):\n",
    "    train(model, train_loader, optimizer, epoch)\n",
    "    test_loss, test_accuracy = evaluate(model, test_loader)\n",
    "    print(\"[{}] Test Loss: {:.4f}, accuracy: {:.2f}%\\n\".format(epoch, test_loss, test_accuracy))"
   ]
  },
  {
   "cell_type": "code",
   "execution_count": 28,
   "metadata": {},
   "outputs": [
    {
     "name": "stdout",
     "output_type": "stream",
     "text": [
      "CNN's number of Parameters:  43626\n"
     ]
    }
   ],
   "source": [
    "print(\"CNN's number of Parameters: \", sum([p.numel() for p in model.parameters()]))"
   ]
  },
  {
   "cell_type": "code",
   "execution_count": null,
   "metadata": {},
   "outputs": [],
   "source": []
  }
 ],
 "metadata": {
  "kernelspec": {
   "display_name": "Python 3",
   "language": "python",
   "name": "python3"
  },
  "language_info": {
   "codemirror_mode": {
    "name": "ipython",
    "version": 3
   },
   "file_extension": ".py",
   "mimetype": "text/x-python",
   "name": "python",
   "nbconvert_exporter": "python",
   "pygments_lexer": "ipython3",
   "version": "3.6.8"
  }
 },
 "nbformat": 4,
 "nbformat_minor": 4
}
