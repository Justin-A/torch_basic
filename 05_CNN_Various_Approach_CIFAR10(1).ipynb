{
 "cells": [
  {
   "cell_type": "code",
   "execution_count": 8,
   "metadata": {},
   "outputs": [],
   "source": [
    "import torch\n",
    "USE_CUDA = torch.cuda.is_available()\n",
    "DEVICE = torch.device(\"cuda\" if USE_CUDA else \"cpu\")"
   ]
  },
  {
   "cell_type": "code",
   "execution_count": 10,
   "metadata": {
    "scrolled": true
   },
   "outputs": [
    {
     "name": "stdout",
     "output_type": "stream",
     "text": [
      "Files already downloaded and verified\n"
     ]
    }
   ],
   "source": [
    "from torchvision import transforms, datasets\n",
    "train_loader = torch.utils.data.DataLoader(\n",
    "    datasets.CIFAR10(\"../data/CIFAR_10/\",\n",
    "                     train = True,\n",
    "                     download = True,\n",
    "                     transform = transforms.Compose([\n",
    "                         transforms.RandomHorizontalFlip(),\n",
    "                         transforms.ToTensor(),\n",
    "                         transforms.Normalize((0.5, 0.5, 0.5),\n",
    "                                              (0.5, 0.5, 0.5))])), batch_size = 64, shuffle = True)\n",
    "\n",
    "test_loader = torch.utils.data.DataLoader(\n",
    "    datasets.CIFAR10(\"../data/CIFAR_10\",\n",
    "                     train = False,\n",
    "                     transform = transforms.Compose([\n",
    "                         transforms.RandomHorizontalFlip(),\n",
    "                         transforms.ToTensor(),\n",
    "                         transforms.Normalize((0.5, 0.5, 0.5),\n",
    "                                              (0.5, 0.5, 0.5))])), batch_size = 64)"
   ]
  },
  {
   "cell_type": "code",
   "execution_count": 39,
   "metadata": {},
   "outputs": [
    {
     "name": "stdout",
     "output_type": "stream",
     "text": [
      "DEVICE:  cuda\n",
      "MODEL:  CNN(\n",
      "  (conv1): Conv2d(3, 8, kernel_size=(3, 3), stride=(2, 2), padding=(1, 1))\n",
      "  (conv2): Conv2d(8, 16, kernel_size=(3, 3), stride=(1, 1), padding=(1, 1))\n",
      "  (conv3): Conv2d(16, 32, kernel_size=(3, 3), stride=(1, 1), padding=(1, 1))\n",
      "  (conv4): Conv2d(32, 64, kernel_size=(3, 3), stride=(1, 1), padding=(1, 1))\n",
      "  (pool): MaxPool2d(kernel_size=2, stride=2, padding=0, dilation=1, ceil_mode=False)\n",
      "  (fc1): Linear(in_features=64, out_features=64, bias=True)\n",
      "  (fc2): Linear(in_features=64, out_features=32, bias=True)\n",
      "  (fc3): Linear(in_features=32, out_features=10, bias=True)\n",
      ")\n"
     ]
    }
   ],
   "source": [
    "import torch.nn as nn\n",
    "import torch.nn.functional as F\n",
    "import torch.optim as optim\n",
    "    \n",
    "class CNN(nn.Module):\n",
    "    def __init__(self):\n",
    "        super(CNN, self).__init__()\n",
    "        self.conv1 = nn.Conv2d(in_channels = 3, out_channels = 8, kernel_size = 3, padding = 1, stride = 2)\n",
    "        self.conv2 = nn.Conv2d(in_channels = 8, out_channels = 16, kernel_size = 3, padding = 1)\n",
    "        self.conv3 = nn.Conv2d(in_channels = 16, out_channels = 32, kernel_size = 3, padding = 1)\n",
    "        self.conv4 = nn.Conv2d(in_channels = 32, out_channels = 64, kernel_size = 3, padding = 1)\n",
    "        self.pool = nn.MaxPool2d(kernel_size = 2, stride = 2)\n",
    "        self.fc1 = nn.Linear(1 * 1 * 64, 64)\n",
    "        self.fc2 = nn.Linear(64, 32)\n",
    "        self.fc3 = nn.Linear(32, 10)\n",
    "        \n",
    "    def forward(self, x):\n",
    "        x = self.conv1(x) # 32 * 32 * 3 -> 16 * 16 * 8\n",
    "        x = F.tanh(x)     # 16 * 16 * 8\n",
    "        x = self.pool(x)  # 8 * 8 * 8\n",
    "        \n",
    "        x = self.conv2(x) # 16 * 16 * 8 -> 16 * 16 * 16\n",
    "        x = F.tanh(x)     # 16 * 16 * 16\n",
    "        x = self.pool(x)  # 8  *  8 * 16\n",
    "        \n",
    "        x = self.conv3(x) # 8 * 8 * 16 -> 8 * 8 * 32\n",
    "        x = F.tanh(x)     # 8 * 8 * 32\n",
    "        x = self.pool(x)  # 4 * 4 * 32\n",
    "        \n",
    "        x = self.conv4(x) # 4 * 4 * 32 -> 4 * 4 * 64\n",
    "        x = F.tanh(x)     # 4 * 4 * 64\n",
    "        x = self.pool(x)  # 2 * 2 * 64\n",
    "        \n",
    "        x = x.view(-1, 1 * 1 * 64)\n",
    "        x = self.fc1(x)\n",
    "        x = F.tanh(x)\n",
    "        x = self.fc2(x)\n",
    "        x = F.tanh(x)\n",
    "        x = self.fc3(x)\n",
    "        x = F.log_softmax(x, dim = 1)\n",
    "        return x\n",
    "\n",
    "\n",
    "model = CNN().to(DEVICE)\n",
    "optimizer = optim.Adam(model.parameters(), lr = 0.001)\n",
    "print(\"DEVICE: \", DEVICE)\n",
    "print(\"MODEL: \", model)"
   ]
  },
  {
   "cell_type": "code",
   "execution_count": 40,
   "metadata": {},
   "outputs": [],
   "source": [
    "def train(model, train_loader, optimizer):\n",
    "    model.train()\n",
    "    for batch_idx, (data, target) in enumerate(train_loader):\n",
    "        data, target = data.to(DEVICE), target.to(DEVICE)\n",
    "        optimizer.zero_grad()\n",
    "        output = model(data)\n",
    "        loss = F.cross_entropy(output, target)\n",
    "        loss.backward()\n",
    "        optimizer.step()\n",
    "\n",
    "        if batch_idx % 100 == 0:\n",
    "            print(\"Train Epoch: {} [{}/{} ({:.0f}%)]\\tLoss: {:.6f}\".format(\n",
    "                epoch, batch_idx * len(data), len(train_loader.dataset), 100. * batch_idx / len(train_loader), loss.item()))"
   ]
  },
  {
   "cell_type": "code",
   "execution_count": 41,
   "metadata": {},
   "outputs": [],
   "source": [
    "def evaluate(model, test_loader):\n",
    "    model.eval()\n",
    "    \n",
    "    test_loss = 0\n",
    "    correct = 0\n",
    "    \n",
    "    with torch.no_grad():\n",
    "        for data, target in test_loader:\n",
    "            data, target = data.to(DEVICE), target.to(DEVICE)\n",
    "            output = model(data)\n",
    "            test_loss += F.cross_entropy(output, target, reduction = \"sum\").item()\n",
    "            prediction = output.max(1, keepdim = True)[1]\n",
    "            correct += prediction.eq(target.view_as(prediction)).sum().item()\n",
    "\n",
    "    test_loss /= len(test_loader.dataset)\n",
    "    test_accuracy = 100. * correct / len(test_loader.dataset)\n",
    "    return test_loss, test_accuracy"
   ]
  },
  {
   "cell_type": "code",
   "execution_count": 42,
   "metadata": {},
   "outputs": [
    {
     "name": "stderr",
     "output_type": "stream",
     "text": [
      "c:\\users\\justin\\venv\\lib\\site-packages\\torch\\nn\\functional.py:1339: UserWarning: nn.functional.tanh is deprecated. Use torch.tanh instead.\n",
      "  warnings.warn(\"nn.functional.tanh is deprecated. Use torch.tanh instead.\")\n"
     ]
    },
    {
     "name": "stdout",
     "output_type": "stream",
     "text": [
      "Train Epoch: 1 [0/50000 (0%)]\tLoss: 2.310999\n",
      "Train Epoch: 1 [6400/50000 (13%)]\tLoss: 1.854854\n",
      "Train Epoch: 1 [12800/50000 (26%)]\tLoss: 1.824022\n",
      "Train Epoch: 1 [19200/50000 (38%)]\tLoss: 1.469424\n",
      "Train Epoch: 1 [25600/50000 (51%)]\tLoss: 1.722908\n",
      "Train Epoch: 1 [32000/50000 (64%)]\tLoss: 1.592378\n",
      "Train Epoch: 1 [38400/50000 (77%)]\tLoss: 1.596185\n",
      "Train Epoch: 1 [44800/50000 (90%)]\tLoss: 1.648891\n",
      "[1] Test Loss: 1.4616, accuracy: 46.67%\n",
      "\n",
      "Train Epoch: 2 [0/50000 (0%)]\tLoss: 1.416534\n",
      "Train Epoch: 2 [6400/50000 (13%)]\tLoss: 1.535204\n",
      "Train Epoch: 2 [12800/50000 (26%)]\tLoss: 1.568586\n",
      "Train Epoch: 2 [19200/50000 (38%)]\tLoss: 1.245138\n",
      "Train Epoch: 2 [25600/50000 (51%)]\tLoss: 1.541788\n",
      "Train Epoch: 2 [32000/50000 (64%)]\tLoss: 1.200129\n",
      "Train Epoch: 2 [38400/50000 (77%)]\tLoss: 1.526839\n",
      "Train Epoch: 2 [44800/50000 (90%)]\tLoss: 1.334775\n",
      "[2] Test Loss: 1.3269, accuracy: 51.54%\n",
      "\n",
      "Train Epoch: 3 [0/50000 (0%)]\tLoss: 1.320623\n",
      "Train Epoch: 3 [6400/50000 (13%)]\tLoss: 1.344092\n",
      "Train Epoch: 3 [12800/50000 (26%)]\tLoss: 1.440148\n",
      "Train Epoch: 3 [19200/50000 (38%)]\tLoss: 1.254739\n",
      "Train Epoch: 3 [25600/50000 (51%)]\tLoss: 1.224567\n",
      "Train Epoch: 3 [32000/50000 (64%)]\tLoss: 1.368665\n",
      "Train Epoch: 3 [38400/50000 (77%)]\tLoss: 1.217434\n",
      "Train Epoch: 3 [44800/50000 (90%)]\tLoss: 1.176838\n",
      "[3] Test Loss: 1.2608, accuracy: 55.20%\n",
      "\n"
     ]
    }
   ],
   "source": [
    "EPOCHS = 3\n",
    "for epoch in range(1, EPOCHS + 1):\n",
    "    train(model, train_loader, optimizer)\n",
    "    test_loss, test_accuracy = evaluate(model, test_loader)\n",
    "    print(\"[{}] Test Loss: {:.4f}, accuracy: {:.2f}%\\n\".format(epoch, test_loss, test_accuracy))"
   ]
  },
  {
   "cell_type": "code",
   "execution_count": 43,
   "metadata": {},
   "outputs": [
    {
     "name": "stdout",
     "output_type": "stream",
     "text": [
      "CNN's number of Parameters:  31098\n"
     ]
    }
   ],
   "source": [
    "print(\"CNN's number of Parameters: \", sum([p.numel() for p in model.parameters()]))"
   ]
  },
  {
   "cell_type": "code",
   "execution_count": null,
   "metadata": {},
   "outputs": [],
   "source": []
  }
 ],
 "metadata": {
  "kernelspec": {
   "display_name": "Python 3",
   "language": "python",
   "name": "python3"
  },
  "language_info": {
   "codemirror_mode": {
    "name": "ipython",
    "version": 3
   },
   "file_extension": ".py",
   "mimetype": "text/x-python",
   "name": "python",
   "nbconvert_exporter": "python",
   "pygments_lexer": "ipython3",
   "version": "3.6.8"
  }
 },
 "nbformat": 4,
 "nbformat_minor": 4
}
