{
 "cells": [
  {
   "cell_type": "code",
   "execution_count": 1,
   "metadata": {},
   "outputs": [],
   "source": [
    "def unpickle(file):\n",
    "    import pickle\n",
    "    with open(file, \"rb\") as fo:\n",
    "        dict = pickle.load(fo, encoding = \"bytes\")\n",
    "    return dict"
   ]
  },
  {
   "cell_type": "code",
   "execution_count": 2,
   "metadata": {},
   "outputs": [],
   "source": [
    "tmp = unpickle(\"../data/CIFAR10/cifar-10-batches-py/data_batch_1\")"
   ]
  },
  {
   "cell_type": "code",
   "execution_count": 4,
   "metadata": {},
   "outputs": [
    {
     "data": {
      "text/plain": [
       "dict_keys([b'batch_label', b'labels', b'data', b'filenames'])"
      ]
     },
     "execution_count": 4,
     "metadata": {},
     "output_type": "execute_result"
    }
   ],
   "source": [
    "tmp.keys()"
   ]
  },
  {
   "cell_type": "code",
   "execution_count": 7,
   "metadata": {},
   "outputs": [
    {
     "data": {
      "text/plain": [
       "array([[ 59,  43,  50, ..., 140,  84,  72],\n",
       "       [154, 126, 105, ..., 139, 142, 144],\n",
       "       [255, 253, 253, ...,  83,  83,  84],\n",
       "       ...,\n",
       "       [ 71,  60,  74, ...,  68,  69,  68],\n",
       "       [250, 254, 211, ..., 215, 255, 254],\n",
       "       [ 62,  61,  60, ..., 130, 130, 131]], dtype=uint8)"
      ]
     },
     "execution_count": 7,
     "metadata": {},
     "output_type": "execute_result"
    }
   ],
   "source": [
    "tmp[b'data']"
   ]
  },
  {
   "cell_type": "code",
   "execution_count": 8,
   "metadata": {},
   "outputs": [
    {
     "data": {
      "text/plain": [
       "(10000, 3072)"
      ]
     },
     "execution_count": 8,
     "metadata": {},
     "output_type": "execute_result"
    }
   ],
   "source": [
    "tmp[b'data'].shape"
   ]
  },
  {
   "cell_type": "code",
   "execution_count": 13,
   "metadata": {},
   "outputs": [],
   "source": [
    "def pickle_to_images_and_labels(root):\n",
    "    data = unpickle(root)\n",
    "    data_images = data[b'data'] / 255\n",
    "    data_images = data_images.reshape(-1, 3, 32, 32).astype(\"float32\")\n",
    "    data_labels = data[b'labels']\n",
    "    return data_images, data_labels"
   ]
  },
  {
   "cell_type": "code",
   "execution_count": 19,
   "metadata": {},
   "outputs": [],
   "source": [
    "images1, label1 = pickle_to_images_and_labels(\"../data/CIFAR10/cifar-10-batches-py/data_batch_1\")\n",
    "images2, label2 = pickle_to_images_and_labels(\"../data/CIFAR10/cifar-10-batches-py/data_batch_2\")\n",
    "images3, label3 = pickle_to_images_and_labels(\"../data/CIFAR10/cifar-10-batches-py/data_batch_3\")\n",
    "images4, label4 = pickle_to_images_and_labels(\"../data/CIFAR10/cifar-10-batches-py/data_batch_4\")\n",
    "images5, label5 = pickle_to_images_and_labels(\"../data/CIFAR10/cifar-10-batches-py/data_batch_5\")"
   ]
  },
  {
   "cell_type": "code",
   "execution_count": 20,
   "metadata": {},
   "outputs": [],
   "source": [
    "test_images, test_labels = pickle_to_images_and_labels(\"../data/CIFAR10/cifar-10-batches-py/test_batch\")"
   ]
  },
  {
   "cell_type": "code",
   "execution_count": 27,
   "metadata": {},
   "outputs": [],
   "source": [
    "import numpy as np\n",
    "train_images = np.concatenate([images1, images2, images3, images4, images5], axis = 0)\n",
    "train_labels = np.concatenate([label1, label2, label3, label4, label5], axis = 0)\n",
    "test_images = np.concatenate([test_images], axis = 0)\n",
    "test_labels = np.concatenate([test_labels], axis = 0)"
   ]
  },
  {
   "cell_type": "code",
   "execution_count": 36,
   "metadata": {},
   "outputs": [],
   "source": [
    "from sklearn.model_selection import train_test_split\n",
    "train_images, valid_images, train_labels, valid_labels = train_test_split(train_images, train_labels, stratify = train_labels, random_state = 42, test_size = 0.2)"
   ]
  },
  {
   "cell_type": "code",
   "execution_count": 42,
   "metadata": {},
   "outputs": [
    {
     "name": "stdout",
     "output_type": "stream",
     "text": [
      "The Shape of Train Images:  (40000, 3, 32, 32)\n",
      "The Shape of Valid Images:  (10000, 3, 32, 32)\n",
      "The Shape of Test Images:  (10000, 3, 32, 32)\n"
     ]
    }
   ],
   "source": [
    "print(\"The Shape of Train Images: \", train_images.shape)\n",
    "print(\"The Shape of Valid Images: \", valid_images.shape)\n",
    "print(\"The Shape of Test Images: \", test_images.shape)"
   ]
  },
  {
   "cell_type": "code",
   "execution_count": 41,
   "metadata": {},
   "outputs": [
    {
     "name": "stdout",
     "output_type": "stream",
     "text": [
      "The number of Train Labels:  (40000,)\n",
      "The number of Valid Labels:  (10000,)\n",
      "The number of Test Labels:  (10000,)\n"
     ]
    }
   ],
   "source": [
    "print(\"The number of Train Labels: \", train_labels.shape)\n",
    "print(\"The number of Valid Labels: \", valid_labels.shape)\n",
    "print(\"The number of Test Labels: \", test_labels.shape)"
   ]
  },
  {
   "cell_type": "code",
   "execution_count": 44,
   "metadata": {},
   "outputs": [],
   "source": [
    "import torch\n",
    "from torch.utils.data import TensorDataset, DataLoader\n",
    "train_images_tensor = torch.tensor(train_images)\n",
    "train_labels_tensor = torch.tensor(train_labels)\n",
    "train_tensor = TensorDataset(train_images_tensor, train_labels_tensor)\n",
    "train_loader = DataLoader(train_tensor, batch_size = 64, num_workers = 0, shuffle = True)\n",
    "\n",
    "valid_images_tensor = torch.tensor(valid_images)\n",
    "valid_labels_tensor = torch.tensor(valid_labels)\n",
    "valid_tensor = TensorDataset(valid_images_tensor, valid_labels_tensor)\n",
    "valid_loader = DataLoader(valid_tensor, batch_size = 64, num_workers = 0, shuffle = True)\n",
    "\n",
    "test_images_tensor = torch.tensor(test_images)"
   ]
  },
  {
   "cell_type": "code",
   "execution_count": 45,
   "metadata": {},
   "outputs": [],
   "source": [
    "import torch.nn as nn\n",
    "import torch.nn.functional as F\n",
    "import torch.optim as optim\n",
    "\n",
    "class CNN(nn.Module):\n",
    "    def __init__(self):\n",
    "        super(CNN, self).__init__()\n",
    "        self.conv1 = nn.Conv2d(in_channels = 3, out_channels = 8, kernel_size = 3, padding = 1)\n",
    "        self.conv2 = nn.Conv2d(in_channels = 8, out_channels = 16, kernel_size = 3, padding = 1)\n",
    "        self.pool = nn.MaxPool2d(kernel_size = 2, stride = 2)\n",
    "        self.fc1 = nn.Linear(8 * 8 * 16, 64)\n",
    "        self.fc2 = nn.Linear(64, 32)\n",
    "        self.fc3 = nn.Linear(32, 10)\n",
    "        \n",
    "    def forward(self, x):\n",
    "        x = self.conv1(x) # 32 * 32 * 8\n",
    "        x = F.relu(x)     # 32 * 32 * 8\n",
    "        x = self.pool(x)  # 16 * 16 * 8\n",
    "        x = self.conv2(x) # 16 * 16 * 16\n",
    "        x = F.relu(x)     # 16 * 16 * 16\n",
    "        x = self.pool(x)  # 8 * 8 * 16\n",
    "        \n",
    "        x = x.view(-1, 8 * 8 * 16)\n",
    "        x = self.fc1(x)\n",
    "        x = F.relu(x)\n",
    "        x = self.fc2(x)\n",
    "        x = F.relu(x)\n",
    "        x = self.fc3(x)\n",
    "        x = F.log_softmax(x)\n",
    "        return x"
   ]
  },
  {
   "cell_type": "code",
   "execution_count": 46,
   "metadata": {},
   "outputs": [
    {
     "name": "stdout",
     "output_type": "stream",
     "text": [
      "Model:  CNN(\n",
      "  (conv1): Conv2d(3, 8, kernel_size=(3, 3), stride=(1, 1), padding=(1, 1))\n",
      "  (conv2): Conv2d(8, 16, kernel_size=(3, 3), stride=(1, 1), padding=(1, 1))\n",
      "  (pool): MaxPool2d(kernel_size=2, stride=2, padding=0, dilation=1, ceil_mode=False)\n",
      "  (fc1): Linear(in_features=1024, out_features=64, bias=True)\n",
      "  (fc2): Linear(in_features=64, out_features=32, bias=True)\n",
      "  (fc3): Linear(in_features=32, out_features=10, bias=True)\n",
      ")\n",
      "Device:  cuda\n"
     ]
    }
   ],
   "source": [
    "USE_CUDA = torch.cuda.is_available()\n",
    "DEVICE = torch.device(\"cuda\" if USE_CUDA else \"cpu\")\n",
    "model = CNN().to(DEVICE)\n",
    "optimizer = optim.Adam(model.parameters(), lr = 0.001)\n",
    "print(\"Model: \", model)\n",
    "print(\"Device: \", DEVICE)"
   ]
  },
  {
   "cell_type": "code",
   "execution_count": 56,
   "metadata": {},
   "outputs": [],
   "source": [
    "def train(model, train_loader, optimizer):\n",
    "    model.train()\n",
    "    for batch_idx, (data, target) in enumerate(train_loader):\n",
    "        data, target = data.to(DEVICE), target.to(DEVICE, dtype = torch.int64)\n",
    "        optimizer.zero_grad()\n",
    "        output = model(data)\n",
    "        loss = F.cross_entropy(output, target)\n",
    "        loss.backward()\n",
    "        optimizer.step()\n",
    "        \n",
    "        if batch_idx % 100 == 0:\n",
    "            print(\"Train Epoch: {} [{}/{} ({:.0f}%)]\\tLoss: {:.6f}\".format(\n",
    "            epoch, batch_idx * len(data), len(train_loader.dataset), 100. * batch_idx / len(train_loader), loss.item()))"
   ]
  },
  {
   "cell_type": "code",
   "execution_count": 54,
   "metadata": {},
   "outputs": [],
   "source": [
    "def evaluate(model, valid_loader):\n",
    "    model.eval()\n",
    "    \n",
    "    valid_loss = 0\n",
    "    correct = 0\n",
    "    \n",
    "    with torch.no_grad():\n",
    "        for data, target in valid_loader:\n",
    "            data, target= data.to(DEVICE), target.to(DEVICE, dtype = torch.int64)\n",
    "            output = model(data)\n",
    "            valid_loss += F.cross_entropy(output, target, reduction = \"sum\").item()\n",
    "            prediction = output.max(1, keepdim = True)[1]\n",
    "            correct += prediction.eq(target.view_as(prediction)).sum().item()\n",
    "    \n",
    "    valid_loss /= len(valid_loader.dataset)\n",
    "    valid_accuracy = 100. * correct / len(valid_loader.dataset)\n",
    "    return valid_loss, valid_accuracy"
   ]
  },
  {
   "cell_type": "code",
   "execution_count": 57,
   "metadata": {},
   "outputs": [
    {
     "name": "stderr",
     "output_type": "stream",
     "text": [
      "c:\\users\\justin\\venv\\lib\\site-packages\\ipykernel_launcher.py:29: UserWarning: Implicit dimension choice for log_softmax has been deprecated. Change the call to include dim=X as an argument.\n"
     ]
    },
    {
     "name": "stdout",
     "output_type": "stream",
     "text": [
      "Train Epoch: 1 [0/40000 (0%)]\tLoss: 1.361430\n",
      "Train Epoch: 1 [6400/40000 (16%)]\tLoss: 1.571870\n",
      "Train Epoch: 1 [12800/40000 (32%)]\tLoss: 1.260213\n",
      "Train Epoch: 1 [19200/40000 (48%)]\tLoss: 1.387439\n",
      "Train Epoch: 1 [25600/40000 (64%)]\tLoss: 1.346401\n",
      "Train Epoch: 1 [32000/40000 (80%)]\tLoss: 1.231412\n",
      "Train Epoch: 1 [38400/40000 (96%)]\tLoss: 1.235862\n",
      "[EPOCH : 1], \tValidation Loss: 1.3872, \tValidation Accuracy: 50.24 % \n",
      "\n",
      "Train Epoch: 2 [0/40000 (0%)]\tLoss: 1.260855\n",
      "Train Epoch: 2 [6400/40000 (16%)]\tLoss: 1.326415\n",
      "Train Epoch: 2 [12800/40000 (32%)]\tLoss: 1.168362\n",
      "Train Epoch: 2 [19200/40000 (48%)]\tLoss: 1.383433\n",
      "Train Epoch: 2 [25600/40000 (64%)]\tLoss: 1.057512\n",
      "Train Epoch: 2 [32000/40000 (80%)]\tLoss: 1.182896\n",
      "Train Epoch: 2 [38400/40000 (96%)]\tLoss: 1.365272\n",
      "[EPOCH : 2], \tValidation Loss: 1.2979, \tValidation Accuracy: 54.10 % \n",
      "\n",
      "Train Epoch: 3 [0/40000 (0%)]\tLoss: 1.111758\n",
      "Train Epoch: 3 [6400/40000 (16%)]\tLoss: 1.124160\n",
      "Train Epoch: 3 [12800/40000 (32%)]\tLoss: 1.288800\n",
      "Train Epoch: 3 [19200/40000 (48%)]\tLoss: 1.317991\n",
      "Train Epoch: 3 [25600/40000 (64%)]\tLoss: 1.303626\n",
      "Train Epoch: 3 [32000/40000 (80%)]\tLoss: 1.257480\n",
      "Train Epoch: 3 [38400/40000 (96%)]\tLoss: 1.243374\n",
      "[EPOCH : 3], \tValidation Loss: 1.2769, \tValidation Accuracy: 54.44 % \n",
      "\n",
      "Train Epoch: 4 [0/40000 (0%)]\tLoss: 1.075140\n",
      "Train Epoch: 4 [6400/40000 (16%)]\tLoss: 1.221817\n",
      "Train Epoch: 4 [12800/40000 (32%)]\tLoss: 1.015497\n",
      "Train Epoch: 4 [19200/40000 (48%)]\tLoss: 1.273869\n",
      "Train Epoch: 4 [25600/40000 (64%)]\tLoss: 1.118431\n",
      "Train Epoch: 4 [32000/40000 (80%)]\tLoss: 1.242788\n",
      "Train Epoch: 4 [38400/40000 (96%)]\tLoss: 1.138995\n",
      "[EPOCH : 4], \tValidation Loss: 1.2796, \tValidation Accuracy: 54.04 % \n",
      "\n",
      "Train Epoch: 5 [0/40000 (0%)]\tLoss: 1.427469\n",
      "Train Epoch: 5 [6400/40000 (16%)]\tLoss: 1.096736\n",
      "Train Epoch: 5 [12800/40000 (32%)]\tLoss: 1.022228\n",
      "Train Epoch: 5 [19200/40000 (48%)]\tLoss: 1.115965\n",
      "Train Epoch: 5 [25600/40000 (64%)]\tLoss: 1.164093\n",
      "Train Epoch: 5 [32000/40000 (80%)]\tLoss: 1.390425\n",
      "Train Epoch: 5 [38400/40000 (96%)]\tLoss: 1.096595\n",
      "[EPOCH : 5], \tValidation Loss: 1.2387, \tValidation Accuracy: 55.91 % \n",
      "\n",
      "Train Epoch: 6 [0/40000 (0%)]\tLoss: 1.224247\n",
      "Train Epoch: 6 [6400/40000 (16%)]\tLoss: 1.122560\n",
      "Train Epoch: 6 [12800/40000 (32%)]\tLoss: 1.221642\n",
      "Train Epoch: 6 [19200/40000 (48%)]\tLoss: 1.102595\n",
      "Train Epoch: 6 [25600/40000 (64%)]\tLoss: 1.199061\n",
      "Train Epoch: 6 [32000/40000 (80%)]\tLoss: 1.302431\n",
      "Train Epoch: 6 [38400/40000 (96%)]\tLoss: 1.353957\n",
      "[EPOCH : 6], \tValidation Loss: 1.2223, \tValidation Accuracy: 56.81 % \n",
      "\n",
      "Train Epoch: 7 [0/40000 (0%)]\tLoss: 1.161115\n",
      "Train Epoch: 7 [6400/40000 (16%)]\tLoss: 1.216110\n",
      "Train Epoch: 7 [12800/40000 (32%)]\tLoss: 0.967422\n",
      "Train Epoch: 7 [19200/40000 (48%)]\tLoss: 1.255415\n",
      "Train Epoch: 7 [25600/40000 (64%)]\tLoss: 0.934658\n",
      "Train Epoch: 7 [32000/40000 (80%)]\tLoss: 1.114909\n",
      "Train Epoch: 7 [38400/40000 (96%)]\tLoss: 1.041637\n",
      "[EPOCH : 7], \tValidation Loss: 1.1720, \tValidation Accuracy: 58.70 % \n",
      "\n",
      "Train Epoch: 8 [0/40000 (0%)]\tLoss: 1.137133\n",
      "Train Epoch: 8 [6400/40000 (16%)]\tLoss: 1.048262\n",
      "Train Epoch: 8 [12800/40000 (32%)]\tLoss: 1.130433\n",
      "Train Epoch: 8 [19200/40000 (48%)]\tLoss: 0.743048\n",
      "Train Epoch: 8 [25600/40000 (64%)]\tLoss: 1.118380\n",
      "Train Epoch: 8 [32000/40000 (80%)]\tLoss: 1.303397\n",
      "Train Epoch: 8 [38400/40000 (96%)]\tLoss: 0.887488\n",
      "[EPOCH : 8], \tValidation Loss: 1.1533, \tValidation Accuracy: 59.56 % \n",
      "\n",
      "Train Epoch: 9 [0/40000 (0%)]\tLoss: 1.180444\n",
      "Train Epoch: 9 [6400/40000 (16%)]\tLoss: 1.049773\n",
      "Train Epoch: 9 [12800/40000 (32%)]\tLoss: 0.980881\n",
      "Train Epoch: 9 [19200/40000 (48%)]\tLoss: 1.017157\n",
      "Train Epoch: 9 [25600/40000 (64%)]\tLoss: 0.960528\n",
      "Train Epoch: 9 [32000/40000 (80%)]\tLoss: 1.220239\n",
      "Train Epoch: 9 [38400/40000 (96%)]\tLoss: 0.947019\n",
      "[EPOCH : 9], \tValidation Loss: 1.1328, \tValidation Accuracy: 60.19 % \n",
      "\n",
      "Train Epoch: 10 [0/40000 (0%)]\tLoss: 0.898633\n",
      "Train Epoch: 10 [6400/40000 (16%)]\tLoss: 1.141634\n",
      "Train Epoch: 10 [12800/40000 (32%)]\tLoss: 0.852636\n",
      "Train Epoch: 10 [19200/40000 (48%)]\tLoss: 1.075439\n",
      "Train Epoch: 10 [25600/40000 (64%)]\tLoss: 1.237481\n",
      "Train Epoch: 10 [32000/40000 (80%)]\tLoss: 1.139879\n",
      "Train Epoch: 10 [38400/40000 (96%)]\tLoss: 0.973299\n",
      "[EPOCH : 10], \tValidation Loss: 1.1565, \tValidation Accuracy: 58.96 % \n",
      "\n"
     ]
    }
   ],
   "source": [
    "'''TRAINING'''\n",
    "EPOCHS = 10\n",
    "for epoch in range(1, EPOCHS + 1):\n",
    "    train(model, train_loader, optimizer)\n",
    "    valid_loss, valid_accuracy = evaluate(model, valid_loader)\n",
    "    print(\"[EPOCH : {}], \\tValidation Loss: {:.4f}, \\tValidation Accuracy: {:.2f} % \\n\".format(\n",
    "        epoch, valid_loss, valid_accuracy))"
   ]
  },
  {
   "cell_type": "code",
   "execution_count": 62,
   "metadata": {},
   "outputs": [],
   "source": [
    "def testset_prediction(model, test_images_tensor):\n",
    "    model.eval()\n",
    "    result = []\n",
    "    \n",
    "    with torch.no_grad():\n",
    "        for data in test_images_tensor:\n",
    "            data = data.to(DEVICE)\n",
    "            output = model(data.view(-1, 3, 32, 32))\n",
    "            prediction = output.max(1, keepdim = True)[1]\n",
    "            result.append(prediction.tolist())\n",
    "    return result"
   ]
  },
  {
   "cell_type": "code",
   "execution_count": 64,
   "metadata": {},
   "outputs": [
    {
     "name": "stderr",
     "output_type": "stream",
     "text": [
      "c:\\users\\justin\\venv\\lib\\site-packages\\ipykernel_launcher.py:29: UserWarning: Implicit dimension choice for log_softmax has been deprecated. Change the call to include dim=X as an argument.\n"
     ]
    },
    {
     "data": {
      "text/plain": [
       "0.5898"
      ]
     },
     "execution_count": 64,
     "metadata": {},
     "output_type": "execute_result"
    }
   ],
   "source": [
    "from sklearn.metrics import accuracy_score\n",
    "test_predict_result = testset_prediction(model, test_images_tensor)\n",
    "accuracy_score(test_labels, np.squeeze(test_predict_result))"
   ]
  },
  {
   "cell_type": "code",
   "execution_count": 66,
   "metadata": {},
   "outputs": [
    {
     "data": {
      "text/plain": [
       "(3, 32, 32)"
      ]
     },
     "execution_count": 66,
     "metadata": {},
     "output_type": "execute_result"
    }
   ],
   "source": [
    "test_images[30].shape"
   ]
  },
  {
   "cell_type": "code",
   "execution_count": 69,
   "metadata": {},
   "outputs": [
    {
     "data": {
      "image/png": "[encoded data removed]",
      "text/plain": [
       "<Figure size 432x288 with 1 Axes>"
      ]
     },
     "metadata": {
      "needs_background": "light"
     },
     "output_type": "display_data"
    }
   ],
   "source": [
    "import matplotlib.pyplot as plt\n",
    "plt.imshow(np.transpose(test_images[30], (1, 2, 0)))\n",
    "plt.show()"
   ]
  },
  {
   "cell_type": "code",
   "execution_count": 70,
   "metadata": {},
   "outputs": [
    {
     "data": {
      "text/plain": [
       "6"
      ]
     },
     "execution_count": 70,
     "metadata": {},
     "output_type": "execute_result"
    }
   ],
   "source": [
    "test_labels[30]"
   ]
  },
  {
   "cell_type": "code",
   "execution_count": 72,
   "metadata": {},
   "outputs": [
    {
     "data": {
      "text/plain": [
       "[[6]]"
      ]
     },
     "execution_count": 72,
     "metadata": {},
     "output_type": "execute_result"
    }
   ],
   "source": [
    "test_predict_result[30]"
   ]
  },
  {
   "cell_type": "code",
   "execution_count": null,
   "metadata": {},
   "outputs": [],
   "source": []
  }
 ],
 "metadata": {
  "kernelspec": {
   "display_name": "Python 3",
   "language": "python",
   "name": "python3"
  },
  "language_info": {
   "codemirror_mode": {
    "name": "ipython",
    "version": 3
   },
   "file_extension": ".py",
   "mimetype": "text/x-python",
   "name": "python",
   "nbconvert_exporter": "python",
   "pygments_lexer": "ipython3",
   "version": "3.6.8"
  }
 },
 "nbformat": 4,
 "nbformat_minor": 4
}
