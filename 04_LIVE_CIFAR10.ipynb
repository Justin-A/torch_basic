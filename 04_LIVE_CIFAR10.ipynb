{
 "cells": [
  {
   "cell_type": "code",
   "execution_count": 1,
   "metadata": {},
   "outputs": [],
   "source": [
    "def unpickle(file):\n",
    "    import pickle\n",
    "    with open(file, \"rb\") as fo:\n",
    "        dict = pickle.load(fo, encoding = \"bytes\")\n",
    "    return dict"
   ]
  },
  {
   "cell_type": "code",
   "execution_count": 2,
   "metadata": {},
   "outputs": [
    {
     "name": "stdout",
     "output_type": "stream",
     "text": [
      "dict_keys([b'batch_label', b'labels', b'data', b'filenames'])\n",
      "(10000, 3072)\n"
     ]
    }
   ],
   "source": [
    "tmp = unpickle(\"../data/CIFAR10/cifar-10-batches-py/data_batch_1\")\n",
    "print(tmp.keys())\n",
    "print(tmp[b'data'].shape)"
   ]
  },
  {
   "cell_type": "code",
   "execution_count": 3,
   "metadata": {},
   "outputs": [],
   "source": [
    "def batch_to_data(root):\n",
    "    data = unpickle(root)\n",
    "    data_images = data[b\"data\"] / 255\n",
    "    data_images = data_images.reshape(-1, 3, 32, 32).astype(\"float32\")\n",
    "    data_labels = data[b\"labels\"]\n",
    "    return data_images, data_labels"
   ]
  },
  {
   "cell_type": "code",
   "execution_count": 4,
   "metadata": {},
   "outputs": [],
   "source": [
    "images1, label1 = batch_to_data(\"../data/CIFAR10/cifar-10-batches-py/data_batch_1\")\n",
    "images2, label2 = batch_to_data(\"../data/CIFAR10/cifar-10-batches-py/data_batch_2\")\n",
    "images3, label3 = batch_to_data(\"../data/CIFAR10/cifar-10-batches-py/data_batch_3\")\n",
    "images4, label4 = batch_to_data(\"../data/CIFAR10/cifar-10-batches-py/data_batch_4\")\n",
    "images5, label5 = batch_to_data(\"../data/CIFAR10/cifar-10-batches-py/data_batch_5\")\n",
    "test_images, test_labels = batch_to_data(\"../data/CIFAR10/cifar-10-batches-py/test_batch\")"
   ]
  },
  {
   "cell_type": "code",
   "execution_count": 5,
   "metadata": {},
   "outputs": [],
   "source": [
    "import numpy as np\n",
    "train_images = np.concatenate([images1, images2, images3, images4, images5], axis = 0)\n",
    "train_labels = np.concatenate([label1, label2, label3, label4, label5], axis = 0)\n",
    "test_labels = np.concatenate([test_labels], axis = 0)"
   ]
  },
  {
   "cell_type": "code",
   "execution_count": 6,
   "metadata": {},
   "outputs": [],
   "source": [
    "# Split Train, Validation Set\n",
    "from sklearn.model_selection import train_test_split\n",
    "train_images, valid_images, train_labels, valid_labels = train_test_split(train_images, train_labels, stratify = train_labels, random_state = 42, test_size = 0.2)"
   ]
  },
  {
   "cell_type": "code",
   "execution_count": 7,
   "metadata": {},
   "outputs": [
    {
     "name": "stdout",
     "output_type": "stream",
     "text": [
      "The Shape of Train Images:  (40000, 3, 32, 32)\n",
      "The Shape of Valid Images:  (10000, 3, 32, 32)\n",
      "The Shape of Test Images:  (10000, 3, 32, 32)\n"
     ]
    }
   ],
   "source": [
    "# Check Images\n",
    "print(\"The Shape of Train Images: \", train_images.shape)\n",
    "print(\"The Shape of Valid Images: \", valid_images.shape)\n",
    "print(\"The Shape of Test Images: \", test_images.shape)"
   ]
  },
  {
   "cell_type": "code",
   "execution_count": 8,
   "metadata": {},
   "outputs": [
    {
     "name": "stdout",
     "output_type": "stream",
     "text": [
      "The Number of Train Labels:  (40000,)\n",
      "The Number of Valid Labels:  (10000,)\n",
      "The Number of Test Labels:  (10000,)\n"
     ]
    }
   ],
   "source": [
    "# Check Labels\n",
    "print(\"The Number of Train Labels: \", train_labels.shape)\n",
    "print(\"The Number of Valid Labels: \", valid_labels.shape)\n",
    "print(\"The Number of Test Labels: \", test_labels.shape)"
   ]
  },
  {
   "cell_type": "code",
   "execution_count": 9,
   "metadata": {},
   "outputs": [],
   "source": [
    "# Make DataLoader with TensorDataset\n",
    "import torch\n",
    "from torch.utils.data import TensorDataset, DataLoader\n",
    "train_images_tensor = torch.tensor(train_images)\n",
    "train_labels_tensor = torch.tensor(train_labels)\n",
    "train_tensor = TensorDataset(train_images_tensor, train_labels_tensor)\n",
    "train_loader = DataLoader(train_tensor, batch_size = 64, num_workers = 0, shuffle = True)\n",
    "\n",
    "valid_images_tensor = torch.tensor(valid_images)\n",
    "valid_labels_tensor = torch.tensor(valid_labels)\n",
    "valid_tensor = TensorDataset(valid_images_tensor, valid_labels_tensor)\n",
    "valid_loader = DataLoader(valid_tensor, batch_size = 64, num_workers = 0, shuffle = True)\n",
    "\n",
    "test_images_tensor = torch.tensor(test_images)"
   ]
  },
  {
   "cell_type": "code",
   "execution_count": 10,
   "metadata": {},
   "outputs": [],
   "source": [
    "# Make CNN Architecture\n",
    "import torch.nn as nn\n",
    "import torch.nn.functional as F\n",
    "import torch.optim as optim\n",
    "\n",
    "class CNN(nn.Module):\n",
    "    def __init__(self):\n",
    "        super(CNN, self).__init__()\n",
    "        self.conv1 = nn.Conv2d(in_channels = 3, out_channels = 8, kernel_size = 3, stride = 1, padding = 1, padding_mode = \"zeros\")\n",
    "        self.conv2 = nn.Conv2d(in_channels = 8, out_channels = 16, kernel_size = 3, stride = 1, padding = 1, padding_mode = \"zeros\")\n",
    "        self.pool = nn.MaxPool2d(2, 2)\n",
    "        self.fc1 = nn.Linear(8 * 8 * 16, 64)\n",
    "        self.fc2 = nn.Linear(64, 32)\n",
    "        self.fc3 = nn.Linear(32, 10)\n",
    "\n",
    "    def forward(self, x):\n",
    "        x = self.conv1(x) # 32 * 32 * 3\n",
    "        x = F.relu(x)     # 32 * 32 * 3\n",
    "        x = self.pool(x)  # 16 * 16 * 3\n",
    "        x = self.conv2(x) # 16 * 16 * 16\n",
    "        x = F.relu(x)     # 16 * 16 * 16\n",
    "        x = self.pool(x)  #  8 *  8 * 16\n",
    "        x = x.view(-1, 8 * 8 * 16)\n",
    "        x = self.fc1(x)\n",
    "        x = F.relu(x)\n",
    "        x = self.fc2(x)\n",
    "        x = F.relu(x)\n",
    "        x = self.fc3(x)\n",
    "        x = F.log_softmax(x)\n",
    "        return x"
   ]
  },
  {
   "cell_type": "code",
   "execution_count": 11,
   "metadata": {},
   "outputs": [
    {
     "name": "stdout",
     "output_type": "stream",
     "text": [
      "Model:  CNN(\n",
      "  (conv1): Conv2d(3, 8, kernel_size=(3, 3), stride=(1, 1), padding=(1, 1))\n",
      "  (conv2): Conv2d(8, 16, kernel_size=(3, 3), stride=(1, 1), padding=(1, 1))\n",
      "  (pool): MaxPool2d(kernel_size=2, stride=2, padding=0, dilation=1, ceil_mode=False)\n",
      "  (fc1): Linear(in_features=1024, out_features=64, bias=True)\n",
      "  (fc2): Linear(in_features=64, out_features=32, bias=True)\n",
      "  (fc3): Linear(in_features=32, out_features=10, bias=True)\n",
      ")\n",
      "Device:  cuda\n"
     ]
    }
   ],
   "source": [
    "USE_CUDA = torch.cuda.is_available()\n",
    "DEVICE = torch.device(\"cuda\" if USE_CUDA else \"cpu\")\n",
    "model = CNN().to(DEVICE)\n",
    "optimizer = optim.Adam(model.parameters(), lr = 0.001)\n",
    "print(\"Model: \", model)\n",
    "print(\"Device: \", DEVICE)"
   ]
  },
  {
   "cell_type": "code",
   "execution_count": 12,
   "metadata": {},
   "outputs": [],
   "source": [
    "# Define Train & Evaluate\n",
    "def train(model, train_loader, optimizer):\n",
    "    model.train()\n",
    "    for batch_idx, (data, target) in enumerate(train_loader):\n",
    "        data, target = data.to(DEVICE), target.to(DEVICE, dtype = torch.int64)\n",
    "        optimizer.zero_grad()\n",
    "        output = model(data)\n",
    "        loss = F.cross_entropy(output, target)\n",
    "        loss.backward()\n",
    "        optimizer.step()\n",
    "\n",
    "        if batch_idx % 100 == 0:\n",
    "            print(\"Train Epoch: {} [{}/{} ({:.0f}%)]\\tLoss: {:.6f}\".format(\n",
    "                epoch, batch_idx * len(data), len(train_loader.dataset), 100. * batch_idx / len(train_loader), loss.item()))"
   ]
  },
  {
   "cell_type": "code",
   "execution_count": 13,
   "metadata": {},
   "outputs": [],
   "source": [
    "def evaluate(model, valid_loader):\n",
    "    model.eval()\n",
    "    \n",
    "    valid_loss = 0\n",
    "    correct = 0\n",
    "    \n",
    "    with torch.no_grad():\n",
    "        for data, target in valid_loader:\n",
    "            data, target = data.to(DEVICE), target.to(DEVICE, dtype = torch.int64)\n",
    "            output = model(data)\n",
    "            valid_loss += F.cross_entropy(output, target, reduction = \"sum\").item()\n",
    "            prediction = output.max(1, keepdim = True)[1]\n",
    "            correct += prediction.eq(target.view_as(prediction)).sum().item()\n",
    "\n",
    "    valid_loss /= len(valid_loader.dataset)\n",
    "    valid_accuracy = 100. * correct / len(valid_loader.dataset)\n",
    "    return valid_loss, valid_accuracy"
   ]
  },
  {
   "cell_type": "code",
   "execution_count": 14,
   "metadata": {},
   "outputs": [
    {
     "name": "stderr",
     "output_type": "stream",
     "text": [
      "c:\\users\\justin\\venv\\lib\\site-packages\\ipykernel_launcher.py:29: UserWarning: Implicit dimension choice for log_softmax has been deprecated. Change the call to include dim=X as an argument.\n"
     ]
    },
    {
     "name": "stdout",
     "output_type": "stream",
     "text": [
      "Train Epoch: 1 [0/40000 (0%)]\tLoss: 2.309410\n",
      "Train Epoch: 1 [6400/40000 (16%)]\tLoss: 2.074328\n",
      "Train Epoch: 1 [12800/40000 (32%)]\tLoss: 1.949840\n",
      "Train Epoch: 1 [19200/40000 (48%)]\tLoss: 1.804405\n",
      "Train Epoch: 1 [25600/40000 (64%)]\tLoss: 1.731735\n",
      "Train Epoch: 1 [32000/40000 (80%)]\tLoss: 1.595117\n",
      "Train Epoch: 1 [38400/40000 (96%)]\tLoss: 1.696486\n",
      "[EPOCH: 1], \tValidation Loss: 1.5815, \tValidation Accuracy: 42.64 %\n",
      "\n",
      "Train Epoch: 2 [0/40000 (0%)]\tLoss: 1.603365\n",
      "Train Epoch: 2 [6400/40000 (16%)]\tLoss: 1.544948\n",
      "Train Epoch: 2 [12800/40000 (32%)]\tLoss: 1.324980\n",
      "Train Epoch: 2 [19200/40000 (48%)]\tLoss: 1.442722\n",
      "Train Epoch: 2 [25600/40000 (64%)]\tLoss: 1.641744\n",
      "Train Epoch: 2 [32000/40000 (80%)]\tLoss: 1.755652\n",
      "Train Epoch: 2 [38400/40000 (96%)]\tLoss: 1.377651\n",
      "[EPOCH: 2], \tValidation Loss: 1.4904, \tValidation Accuracy: 45.53 %\n",
      "\n",
      "Train Epoch: 3 [0/40000 (0%)]\tLoss: 1.609147\n",
      "Train Epoch: 3 [6400/40000 (16%)]\tLoss: 1.512689\n",
      "Train Epoch: 3 [12800/40000 (32%)]\tLoss: 1.594874\n",
      "Train Epoch: 3 [19200/40000 (48%)]\tLoss: 1.428402\n",
      "Train Epoch: 3 [25600/40000 (64%)]\tLoss: 1.534380\n",
      "Train Epoch: 3 [32000/40000 (80%)]\tLoss: 1.373245\n",
      "Train Epoch: 3 [38400/40000 (96%)]\tLoss: 1.335650\n",
      "[EPOCH: 3], \tValidation Loss: 1.3472, \tValidation Accuracy: 51.43 %\n",
      "\n",
      "Train Epoch: 4 [0/40000 (0%)]\tLoss: 1.270502\n",
      "Train Epoch: 4 [6400/40000 (16%)]\tLoss: 1.321063\n",
      "Train Epoch: 4 [12800/40000 (32%)]\tLoss: 1.377097\n",
      "Train Epoch: 4 [19200/40000 (48%)]\tLoss: 1.515341\n",
      "Train Epoch: 4 [25600/40000 (64%)]\tLoss: 1.323171\n",
      "Train Epoch: 4 [32000/40000 (80%)]\tLoss: 1.391142\n",
      "Train Epoch: 4 [38400/40000 (96%)]\tLoss: 1.353428\n",
      "[EPOCH: 4], \tValidation Loss: 1.3010, \tValidation Accuracy: 53.31 %\n",
      "\n",
      "Train Epoch: 5 [0/40000 (0%)]\tLoss: 1.039035\n",
      "Train Epoch: 5 [6400/40000 (16%)]\tLoss: 1.515554\n",
      "Train Epoch: 5 [12800/40000 (32%)]\tLoss: 1.200045\n",
      "Train Epoch: 5 [19200/40000 (48%)]\tLoss: 1.008698\n",
      "Train Epoch: 5 [25600/40000 (64%)]\tLoss: 1.212051\n",
      "Train Epoch: 5 [32000/40000 (80%)]\tLoss: 1.139057\n",
      "Train Epoch: 5 [38400/40000 (96%)]\tLoss: 1.387611\n",
      "[EPOCH: 5], \tValidation Loss: 1.2817, \tValidation Accuracy: 54.12 %\n",
      "\n",
      "Train Epoch: 6 [0/40000 (0%)]\tLoss: 1.205688\n",
      "Train Epoch: 6 [6400/40000 (16%)]\tLoss: 1.142613\n",
      "Train Epoch: 6 [12800/40000 (32%)]\tLoss: 1.274953\n",
      "Train Epoch: 6 [19200/40000 (48%)]\tLoss: 1.100997\n",
      "Train Epoch: 6 [25600/40000 (64%)]\tLoss: 1.057582\n",
      "Train Epoch: 6 [32000/40000 (80%)]\tLoss: 1.200381\n",
      "Train Epoch: 6 [38400/40000 (96%)]\tLoss: 1.292703\n",
      "[EPOCH: 6], \tValidation Loss: 1.2466, \tValidation Accuracy: 56.04 %\n",
      "\n",
      "Train Epoch: 7 [0/40000 (0%)]\tLoss: 1.264152\n",
      "Train Epoch: 7 [6400/40000 (16%)]\tLoss: 1.155693\n",
      "Train Epoch: 7 [12800/40000 (32%)]\tLoss: 1.255478\n",
      "Train Epoch: 7 [19200/40000 (48%)]\tLoss: 1.029585\n",
      "Train Epoch: 7 [25600/40000 (64%)]\tLoss: 1.395509\n",
      "Train Epoch: 7 [32000/40000 (80%)]\tLoss: 1.105530\n",
      "Train Epoch: 7 [38400/40000 (96%)]\tLoss: 1.130941\n",
      "[EPOCH: 7], \tValidation Loss: 1.2224, \tValidation Accuracy: 56.44 %\n",
      "\n",
      "Train Epoch: 8 [0/40000 (0%)]\tLoss: 1.239014\n",
      "Train Epoch: 8 [6400/40000 (16%)]\tLoss: 1.165502\n",
      "Train Epoch: 8 [12800/40000 (32%)]\tLoss: 1.072052\n",
      "Train Epoch: 8 [19200/40000 (48%)]\tLoss: 1.089980\n",
      "Train Epoch: 8 [25600/40000 (64%)]\tLoss: 1.357719\n",
      "Train Epoch: 8 [32000/40000 (80%)]\tLoss: 0.996899\n",
      "Train Epoch: 8 [38400/40000 (96%)]\tLoss: 1.117524\n",
      "[EPOCH: 8], \tValidation Loss: 1.1889, \tValidation Accuracy: 57.96 %\n",
      "\n",
      "Train Epoch: 9 [0/40000 (0%)]\tLoss: 1.252936\n",
      "Train Epoch: 9 [6400/40000 (16%)]\tLoss: 0.999543\n",
      "Train Epoch: 9 [12800/40000 (32%)]\tLoss: 1.055719\n",
      "Train Epoch: 9 [19200/40000 (48%)]\tLoss: 1.058174\n",
      "Train Epoch: 9 [25600/40000 (64%)]\tLoss: 1.222244\n",
      "Train Epoch: 9 [32000/40000 (80%)]\tLoss: 1.141698\n",
      "Train Epoch: 9 [38400/40000 (96%)]\tLoss: 0.947335\n",
      "[EPOCH: 9], \tValidation Loss: 1.1488, \tValidation Accuracy: 59.67 %\n",
      "\n",
      "Train Epoch: 10 [0/40000 (0%)]\tLoss: 0.945311\n",
      "Train Epoch: 10 [6400/40000 (16%)]\tLoss: 1.038990\n",
      "Train Epoch: 10 [12800/40000 (32%)]\tLoss: 1.161929\n",
      "Train Epoch: 10 [19200/40000 (48%)]\tLoss: 1.133112\n",
      "Train Epoch: 10 [25600/40000 (64%)]\tLoss: 0.928177\n",
      "Train Epoch: 10 [32000/40000 (80%)]\tLoss: 0.751176\n",
      "Train Epoch: 10 [38400/40000 (96%)]\tLoss: 0.849691\n",
      "[EPOCH: 10], \tValidation Loss: 1.1579, \tValidation Accuracy: 59.01 %\n",
      "\n"
     ]
    }
   ],
   "source": [
    "'''TRAINING'''\n",
    "EPOCHS = 10\n",
    "for epoch in range(1, EPOCHS + 1):\n",
    "    train(model, train_loader, optimizer)\n",
    "    valid_loss, valid_accuracy = evaluate(model, valid_loader)\n",
    "    print(\"[EPOCH: {}], \\tValidation Loss: {:.4f}, \\tValidation Accuracy: {:.2f} %\\n\".format(\n",
    "        epoch, valid_loss, valid_accuracy))"
   ]
  },
  {
   "cell_type": "code",
   "execution_count": 15,
   "metadata": {},
   "outputs": [],
   "source": [
    "def testset_prediction(model, test_images_tensor):\n",
    "    model.eval()\n",
    "    result = []\n",
    "    with torch.no_grad():\n",
    "        for data in test_images_tensor:\n",
    "            data = data.to(DEVICE)\n",
    "            output = model(data.view(-1, 3, 32, 32))\n",
    "            prediction = output.max(1, keepdim = True)[1]\n",
    "            result.append(prediction.tolist())\n",
    "    return result"
   ]
  },
  {
   "cell_type": "code",
   "execution_count": 16,
   "metadata": {},
   "outputs": [
    {
     "name": "stderr",
     "output_type": "stream",
     "text": [
      "c:\\users\\justin\\venv\\lib\\site-packages\\ipykernel_launcher.py:29: UserWarning: Implicit dimension choice for log_softmax has been deprecated. Change the call to include dim=X as an argument.\n"
     ]
    },
    {
     "data": {
      "text/plain": [
       "0.5916"
      ]
     },
     "execution_count": 16,
     "metadata": {},
     "output_type": "execute_result"
    }
   ],
   "source": [
    "from sklearn.metrics import accuracy_score\n",
    "test_predict_result = testset_prediction(model, test_images_tensor)\n",
    "accuracy_score(test_labels, np.squeeze(test_predict_result))"
   ]
  },
  {
   "cell_type": "code",
   "execution_count": 18,
   "metadata": {},
   "outputs": [
    {
     "data": {
      "image/png": "[encoded data removed]",
      "text/plain": [
       "<Figure size 432x288 with 1 Axes>"
      ]
     },
     "metadata": {
      "needs_background": "light"
     },
     "output_type": "display_data"
    }
   ],
   "source": [
    "import matplotlib.pyplot as plt\n",
    "plt.imshow(np.transpose(test_images[30], (1, 2, 0)))\n",
    "plt.show()"
   ]
  },
  {
   "cell_type": "code",
   "execution_count": null,
   "metadata": {},
   "outputs": [],
   "source": []
  }
 ],
 "metadata": {
  "kernelspec": {
   "display_name": "Python 3",
   "language": "python",
   "name": "python3"
  },
  "language_info": {
   "codemirror_mode": {
    "name": "ipython",
    "version": 3
   },
   "file_extension": ".py",
   "mimetype": "text/x-python",
   "name": "python",
   "nbconvert_exporter": "python",
   "pygments_lexer": "ipython3",
   "version": "3.6.8"
  }
 },
 "nbformat": 4,
 "nbformat_minor": 4
}
